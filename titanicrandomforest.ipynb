{
 "cells": [
  {
   "cell_type": "code",
   "execution_count": 1,
   "id": "a48c6685",
   "metadata": {
    "_cell_guid": "b1076dfc-b9ad-4769-8c92-a6c4dae69d19",
    "_uuid": "8f2839f25d086af736a60e9eeb907d3b93b6e0e5",
    "execution": {
     "iopub.execute_input": "2025-03-10T21:27:36.058125Z",
     "iopub.status.busy": "2025-03-10T21:27:36.057789Z",
     "iopub.status.idle": "2025-03-10T21:27:37.592733Z",
     "shell.execute_reply": "2025-03-10T21:27:37.591772Z"
    },
    "papermill": {
     "duration": 1.544351,
     "end_time": "2025-03-10T21:27:37.594602",
     "exception": false,
     "start_time": "2025-03-10T21:27:36.050251",
     "status": "completed"
    },
    "tags": []
   },
   "outputs": [],
   "source": [
    "from fastai.imports import *\n",
    "np.set_printoptions(linewidth=130)"
   ]
  },
  {
   "cell_type": "code",
   "execution_count": 2,
   "id": "027dc98d",
   "metadata": {
    "execution": {
     "iopub.execute_input": "2025-03-10T21:27:37.607692Z",
     "iopub.status.busy": "2025-03-10T21:27:37.607140Z",
     "iopub.status.idle": "2025-03-10T21:27:37.664022Z",
     "shell.execute_reply": "2025-03-10T21:27:37.662822Z"
    },
    "papermill": {
     "duration": 0.065342,
     "end_time": "2025-03-10T21:27:37.665948",
     "exception": false,
     "start_time": "2025-03-10T21:27:37.600606",
     "status": "completed"
    },
    "tags": []
   },
   "outputs": [],
   "source": [
    "import os\n",
    "iskaggle = os.environ.get('KAGGLE_KERNEL_RUN_TYPE', '')\n",
    "\n",
    "if iskaggle: path = Path('../input/titanic')\n",
    "else:\n",
    "    import zipfile,kaggle\n",
    "    path = Path('titanic')\n",
    "    kaggle.api.competition_download_cli(str(path))\n",
    "    zipfile.ZipFile(f'{path}.zip').extractall(path)\n",
    "\n",
    "df = pd.read_csv(path/'train.csv')\n",
    "tst_df = pd.read_csv(path/'test.csv')\n",
    "modes = df.mode().iloc[0]"
   ]
  },
  {
   "cell_type": "code",
   "execution_count": 3,
   "id": "b861080a",
   "metadata": {
    "execution": {
     "iopub.execute_input": "2025-03-10T21:27:37.679093Z",
     "iopub.status.busy": "2025-03-10T21:27:37.678661Z",
     "iopub.status.idle": "2025-03-10T21:27:37.703842Z",
     "shell.execute_reply": "2025-03-10T21:27:37.702964Z"
    },
    "papermill": {
     "duration": 0.033988,
     "end_time": "2025-03-10T21:27:37.705748",
     "exception": false,
     "start_time": "2025-03-10T21:27:37.671760",
     "status": "completed"
    },
    "tags": []
   },
   "outputs": [],
   "source": [
    "def proc_data(df):\n",
    "    df['Fare'] = df.Fare.fillna(0)\n",
    "    df.fillna(modes, inplace=True)\n",
    "    df['LogFare'] = np.log1p(df['Fare'])\n",
    "    df['Embarked'] = pd.Categorical(df.Embarked)\n",
    "    df['Sex'] = pd.Categorical(df.Sex)\n",
    "\n",
    "proc_data(df)\n",
    "proc_data(tst_df)"
   ]
  },
  {
   "cell_type": "code",
   "execution_count": 4,
   "id": "ab699c0f",
   "metadata": {
    "execution": {
     "iopub.execute_input": "2025-03-10T21:27:37.718391Z",
     "iopub.status.busy": "2025-03-10T21:27:37.718027Z",
     "iopub.status.idle": "2025-03-10T21:27:37.722500Z",
     "shell.execute_reply": "2025-03-10T21:27:37.721458Z"
    },
    "papermill": {
     "duration": 0.012694,
     "end_time": "2025-03-10T21:27:37.724186",
     "exception": false,
     "start_time": "2025-03-10T21:27:37.711492",
     "status": "completed"
    },
    "tags": []
   },
   "outputs": [],
   "source": [
    "cats=[\"Sex\", \"Embarked\"]\n",
    "conts=['Age', 'SibSp', 'Parch', 'LogFare', 'Pclass']\n",
    "dep=\"Survived\""
   ]
  },
  {
   "cell_type": "code",
   "execution_count": 5,
   "id": "bd9a4c1e",
   "metadata": {
    "execution": {
     "iopub.execute_input": "2025-03-10T21:27:37.736536Z",
     "iopub.status.busy": "2025-03-10T21:27:37.736122Z",
     "iopub.status.idle": "2025-03-10T21:27:37.745536Z",
     "shell.execute_reply": "2025-03-10T21:27:37.744409Z"
    },
    "papermill": {
     "duration": 0.017409,
     "end_time": "2025-03-10T21:27:37.747194",
     "exception": false,
     "start_time": "2025-03-10T21:27:37.729785",
     "status": "completed"
    },
    "tags": []
   },
   "outputs": [
    {
     "data": {
      "text/plain": [
       "0      male\n",
       "1    female\n",
       "2    female\n",
       "3    female\n",
       "4      male\n",
       "Name: Sex, dtype: category\n",
       "Categories (2, object): ['female', 'male']"
      ]
     },
     "execution_count": 5,
     "metadata": {},
     "output_type": "execute_result"
    }
   ],
   "source": [
    "df.Sex.head()"
   ]
  },
  {
   "cell_type": "code",
   "execution_count": 6,
   "id": "4a1130aa",
   "metadata": {
    "execution": {
     "iopub.execute_input": "2025-03-10T21:27:37.760210Z",
     "iopub.status.busy": "2025-03-10T21:27:37.759752Z",
     "iopub.status.idle": "2025-03-10T21:27:39.475343Z",
     "shell.execute_reply": "2025-03-10T21:27:39.474317Z"
    },
    "papermill": {
     "duration": 1.72406,
     "end_time": "2025-03-10T21:27:39.477057",
     "exception": false,
     "start_time": "2025-03-10T21:27:37.752997",
     "status": "completed"
    },
    "tags": []
   },
   "outputs": [
    {
     "name": "stderr",
     "output_type": "stream",
     "text": [
      "/usr/local/lib/python3.10/dist-packages/seaborn/categorical.py:641: FutureWarning: The default of observed=False is deprecated and will be changed to True in a future version of pandas. Pass observed=False to retain current behavior or observed=True to adopt the future default and silence this warning.\n",
      "  grouped_vals = vals.groupby(grouper)\n"
     ]
    },
    {
     "data": {
      "text/plain": [
       "[Text(0.5, 1.0, 'Histogram')]"
      ]
     },
     "execution_count": 6,
     "metadata": {},
     "output_type": "execute_result"
    },
    {
     "data": {
      "image/png": "[encoded data removed]",
      "text/plain": [
       "<Figure size 1100x500 with 2 Axes>"
      ]
     },
     "metadata": {},
     "output_type": "display_data"
    }
   ],
   "source": [
    "import seaborn as sns\n",
    "\n",
    "fig,axs = plt.subplots(1,2, figsize=(11,5))\n",
    "sns.barplot(data=df, y=dep, x=\"Sex\", ax=axs[0]).set(title=\"Survival Rate\")\n",
    "sns.countplot(data=df, x=\"Sex\", ax=axs[1]).set(title=\"Histogram\")\n"
   ]
  },
  {
   "cell_type": "code",
   "execution_count": 7,
   "id": "c75bb954",
   "metadata": {
    "execution": {
     "iopub.execute_input": "2025-03-10T21:27:39.491671Z",
     "iopub.status.busy": "2025-03-10T21:27:39.491093Z",
     "iopub.status.idle": "2025-03-10T21:27:39.873574Z",
     "shell.execute_reply": "2025-03-10T21:27:39.872558Z"
    },
    "papermill": {
     "duration": 0.391871,
     "end_time": "2025-03-10T21:27:39.875622",
     "exception": false,
     "start_time": "2025-03-10T21:27:39.483751",
     "status": "completed"
    },
    "tags": []
   },
   "outputs": [],
   "source": [
    "from numpy import random\n",
    "from sklearn.model_selection import train_test_split\n",
    "\n",
    "random.seed(42)\n",
    "trn_df,val_df = train_test_split(df, test_size=0.25)\n",
    "trn_df[cats] = trn_df[cats].apply(lambda x: x.cat.codes)\n",
    "val_df[cats] = val_df[cats].apply(lambda x: x.cat.codes)"
   ]
  },
  {
   "cell_type": "code",
   "execution_count": 8,
   "id": "f5601163",
   "metadata": {
    "execution": {
     "iopub.execute_input": "2025-03-10T21:27:39.890666Z",
     "iopub.status.busy": "2025-03-10T21:27:39.890278Z",
     "iopub.status.idle": "2025-03-10T21:27:39.898263Z",
     "shell.execute_reply": "2025-03-10T21:27:39.897313Z"
    },
    "papermill": {
     "duration": 0.017148,
     "end_time": "2025-03-10T21:27:39.899899",
     "exception": false,
     "start_time": "2025-03-10T21:27:39.882751",
     "status": "completed"
    },
    "tags": []
   },
   "outputs": [],
   "source": [
    "def xs_y(df):\n",
    "    xs = df[cats+conts].copy()\n",
    "    return xs,df[dep] if dep in df else None\n",
    "\n",
    "trn_xs,trn_y = xs_y(trn_df)\n",
    "val_xs,val_y = xs_y(val_df)"
   ]
  },
  {
   "cell_type": "code",
   "execution_count": 9,
   "id": "8ad752ee",
   "metadata": {
    "execution": {
     "iopub.execute_input": "2025-03-10T21:27:39.914657Z",
     "iopub.status.busy": "2025-03-10T21:27:39.914271Z",
     "iopub.status.idle": "2025-03-10T21:27:39.918987Z",
     "shell.execute_reply": "2025-03-10T21:27:39.918090Z"
    },
    "papermill": {
     "duration": 0.014162,
     "end_time": "2025-03-10T21:27:39.920741",
     "exception": false,
     "start_time": "2025-03-10T21:27:39.906579",
     "status": "completed"
    },
    "tags": []
   },
   "outputs": [],
   "source": [
    "preds = val_xs.Sex==0"
   ]
  },
  {
   "cell_type": "code",
   "execution_count": 10,
   "id": "ea74b14b",
   "metadata": {
    "execution": {
     "iopub.execute_input": "2025-03-10T21:27:39.934909Z",
     "iopub.status.busy": "2025-03-10T21:27:39.934571Z",
     "iopub.status.idle": "2025-03-10T21:27:39.941261Z",
     "shell.execute_reply": "2025-03-10T21:27:39.940181Z"
    },
    "papermill": {
     "duration": 0.015492,
     "end_time": "2025-03-10T21:27:39.942867",
     "exception": false,
     "start_time": "2025-03-10T21:27:39.927375",
     "status": "completed"
    },
    "tags": []
   },
   "outputs": [
    {
     "data": {
      "text/plain": [
       "0.21524663677130046"
      ]
     },
     "execution_count": 10,
     "metadata": {},
     "output_type": "execute_result"
    }
   ],
   "source": [
    "from sklearn.metrics import mean_absolute_error\n",
    "mean_absolute_error(val_y, preds)"
   ]
  },
  {
   "cell_type": "code",
   "execution_count": 11,
   "id": "15842be6",
   "metadata": {
    "execution": {
     "iopub.execute_input": "2025-03-10T21:27:39.957148Z",
     "iopub.status.busy": "2025-03-10T21:27:39.956789Z",
     "iopub.status.idle": "2025-03-10T21:27:40.246380Z",
     "shell.execute_reply": "2025-03-10T21:27:40.245245Z"
    },
    "papermill": {
     "duration": 0.298726,
     "end_time": "2025-03-10T21:27:40.248174",
     "exception": false,
     "start_time": "2025-03-10T21:27:39.949448",
     "status": "completed"
    },
    "tags": []
   },
   "outputs": [
    {
     "data": {
      "image/png": "[encoded data removed]",
      "text/plain": [
       "<Figure size 1100x500 with 2 Axes>"
      ]
     },
     "metadata": {},
     "output_type": "display_data"
    }
   ],
   "source": [
    "df_fare = trn_df[trn_df.LogFare>0]\n",
    "fig,axs = plt.subplots(1,2, figsize=(11,5))"
   ]
  },
  {
   "cell_type": "code",
   "execution_count": 12,
   "id": "47a9900b",
   "metadata": {
    "execution": {
     "iopub.execute_input": "2025-03-10T21:27:40.263194Z",
     "iopub.status.busy": "2025-03-10T21:27:40.262795Z",
     "iopub.status.idle": "2025-03-10T21:27:40.267393Z",
     "shell.execute_reply": "2025-03-10T21:27:40.266523Z"
    },
    "papermill": {
     "duration": 0.013875,
     "end_time": "2025-03-10T21:27:40.268999",
     "exception": false,
     "start_time": "2025-03-10T21:27:40.255124",
     "status": "completed"
    },
    "tags": []
   },
   "outputs": [],
   "source": [
    "def _side_score(side, y):\n",
    "    tot = side.sum()\n",
    "    if tot<=1: return 0\n",
    "    return y[side].std()*tot"
   ]
  },
  {
   "cell_type": "code",
   "execution_count": 13,
   "id": "4c90cc7c",
   "metadata": {
    "execution": {
     "iopub.execute_input": "2025-03-10T21:27:40.283853Z",
     "iopub.status.busy": "2025-03-10T21:27:40.283508Z",
     "iopub.status.idle": "2025-03-10T21:27:40.288313Z",
     "shell.execute_reply": "2025-03-10T21:27:40.287279Z"
    },
    "papermill": {
     "duration": 0.014268,
     "end_time": "2025-03-10T21:27:40.290086",
     "exception": false,
     "start_time": "2025-03-10T21:27:40.275818",
     "status": "completed"
    },
    "tags": []
   },
   "outputs": [],
   "source": [
    "def score(col, y, split):\n",
    "    lhs = col<=split\n",
    "    return (_side_score(lhs,y) + _side_score(~lhs,y))/len(y)"
   ]
  },
  {
   "cell_type": "code",
   "execution_count": 14,
   "id": "4af8c71d",
   "metadata": {
    "execution": {
     "iopub.execute_input": "2025-03-10T21:27:40.305244Z",
     "iopub.status.busy": "2025-03-10T21:27:40.304903Z",
     "iopub.status.idle": "2025-03-10T21:27:40.309325Z",
     "shell.execute_reply": "2025-03-10T21:27:40.308317Z"
    },
    "papermill": {
     "duration": 0.014098,
     "end_time": "2025-03-10T21:27:40.311089",
     "exception": false,
     "start_time": "2025-03-10T21:27:40.296991",
     "status": "completed"
    },
    "tags": []
   },
   "outputs": [],
   "source": [
    "def iscore(nm, split):\n",
    "    col = trn_xs[nm]\n",
    "    return score(col, trn_y, split)"
   ]
  },
  {
   "cell_type": "code",
   "execution_count": 15,
   "id": "70079e33",
   "metadata": {
    "execution": {
     "iopub.execute_input": "2025-03-10T21:27:40.325796Z",
     "iopub.status.busy": "2025-03-10T21:27:40.325401Z",
     "iopub.status.idle": "2025-03-10T21:27:40.333865Z",
     "shell.execute_reply": "2025-03-10T21:27:40.332785Z"
    },
    "papermill": {
     "duration": 0.017767,
     "end_time": "2025-03-10T21:27:40.335720",
     "exception": false,
     "start_time": "2025-03-10T21:27:40.317953",
     "status": "completed"
    },
    "tags": []
   },
   "outputs": [
    {
     "data": {
      "text/plain": [
       "array([ 0.42,  0.67,  0.75,  0.83,  0.92,  1.  ,  2.  ,  3.  ,  4.  ,  5.  ,  6.  ,  7.  ,  8.  ,  9.  , 10.  , 11.  , 12.  ,\n",
       "       13.  , 14.  , 14.5 , 15.  , 16.  , 17.  , 18.  , 19.  , 20.  , 21.  , 22.  , 23.  , 24.  , 24.5 , 25.  , 26.  , 27.  ,\n",
       "       28.  , 28.5 , 29.  , 30.  , 31.  , 32.  , 32.5 , 33.  , 34.  , 34.5 , 35.  , 36.  , 36.5 , 37.  , 38.  , 39.  , 40.  ,\n",
       "       40.5 , 41.  , 42.  , 43.  , 44.  , 45.  , 45.5 , 46.  , 47.  , 48.  , 49.  , 50.  , 51.  , 52.  , 53.  , 54.  , 55.  ,\n",
       "       55.5 , 56.  , 57.  , 58.  , 59.  , 60.  , 61.  , 62.  , 64.  , 65.  , 70.  , 70.5 , 74.  , 80.  ])"
      ]
     },
     "execution_count": 15,
     "metadata": {},
     "output_type": "execute_result"
    }
   ],
   "source": [
    "nm = \"Age\"\n",
    "col = trn_xs[nm]\n",
    "unq = col.unique()\n",
    "unq.sort()\n",
    "unq"
   ]
  },
  {
   "cell_type": "code",
   "execution_count": 16,
   "id": "de0fff85",
   "metadata": {
    "execution": {
     "iopub.execute_input": "2025-03-10T21:27:40.351135Z",
     "iopub.status.busy": "2025-03-10T21:27:40.350747Z",
     "iopub.status.idle": "2025-03-10T21:27:40.395150Z",
     "shell.execute_reply": "2025-03-10T21:27:40.394033Z"
    },
    "papermill": {
     "duration": 0.054092,
     "end_time": "2025-03-10T21:27:40.397087",
     "exception": false,
     "start_time": "2025-03-10T21:27:40.342995",
     "status": "completed"
    },
    "tags": []
   },
   "outputs": [
    {
     "data": {
      "text/plain": [
       "(6.0, 0.47831671750899085)"
      ]
     },
     "execution_count": 16,
     "metadata": {},
     "output_type": "execute_result"
    }
   ],
   "source": [
    "def min_col(df, nm):\n",
    "    col,y = df[nm],df[dep]\n",
    "    unq = col.dropna().unique()\n",
    "    scores = np.array([score(col, y, o) for o in unq if not np.isnan(o)])\n",
    "    idx = scores.argmin()\n",
    "    return unq[idx],scores[idx]\n",
    "\n",
    "min_col(trn_df, \"Age\")"
   ]
  },
  {
   "cell_type": "code",
   "execution_count": 17,
   "id": "d805eb62",
   "metadata": {
    "execution": {
     "iopub.execute_input": "2025-03-10T21:27:40.412286Z",
     "iopub.status.busy": "2025-03-10T21:27:40.411942Z",
     "iopub.status.idle": "2025-03-10T21:27:40.552888Z",
     "shell.execute_reply": "2025-03-10T21:27:40.551797Z"
    },
    "papermill": {
     "duration": 0.15105,
     "end_time": "2025-03-10T21:27:40.555177",
     "exception": false,
     "start_time": "2025-03-10T21:27:40.404127",
     "status": "completed"
    },
    "tags": []
   },
   "outputs": [
    {
     "data": {
      "text/plain": [
       "{'Sex': (0, 0.4078753098206398),\n",
       " 'Embarked': (0, 0.478833425731479),\n",
       " 'Age': (6.0, 0.47831671750899085),\n",
       " 'SibSp': (4, 0.4783740258817423),\n",
       " 'Parch': (0, 0.4805296527841601),\n",
       " 'LogFare': (2.4390808375825834, 0.4620823937736595),\n",
       " 'Pclass': (2, 0.4604826188580666)}"
      ]
     },
     "execution_count": 17,
     "metadata": {},
     "output_type": "execute_result"
    }
   ],
   "source": [
    "cols = cats+conts\n",
    "{o:min_col(trn_df, o) for o in cols}"
   ]
  },
  {
   "cell_type": "code",
   "execution_count": 18,
   "id": "439d8ad1",
   "metadata": {
    "execution": {
     "iopub.execute_input": "2025-03-10T21:27:40.573463Z",
     "iopub.status.busy": "2025-03-10T21:27:40.573013Z",
     "iopub.status.idle": "2025-03-10T21:27:40.580718Z",
     "shell.execute_reply": "2025-03-10T21:27:40.579321Z"
    },
    "papermill": {
     "duration": 0.019138,
     "end_time": "2025-03-10T21:27:40.582611",
     "exception": false,
     "start_time": "2025-03-10T21:27:40.563473",
     "status": "completed"
    },
    "tags": []
   },
   "outputs": [],
   "source": [
    "cols.remove('Sex')\n",
    "ismale = trn_df.Sex==1\n",
    "males,females = trn_df[ismale],trn_df[~ismale]"
   ]
  },
  {
   "cell_type": "code",
   "execution_count": 19,
   "id": "d95fbd65",
   "metadata": {
    "execution": {
     "iopub.execute_input": "2025-03-10T21:27:40.601385Z",
     "iopub.status.busy": "2025-03-10T21:27:40.600860Z",
     "iopub.status.idle": "2025-03-10T21:27:40.728763Z",
     "shell.execute_reply": "2025-03-10T21:27:40.727141Z"
    },
    "papermill": {
     "duration": 0.139765,
     "end_time": "2025-03-10T21:27:40.730872",
     "exception": false,
     "start_time": "2025-03-10T21:27:40.591107",
     "status": "completed"
    },
    "tags": []
   },
   "outputs": [
    {
     "data": {
      "text/plain": [
       "{'Embarked': (0, 0.387558187041091),\n",
       " 'Age': (6.0, 0.37398283710105873),\n",
       " 'SibSp': (4, 0.38758642275862637),\n",
       " 'Parch': (0, 0.3874704821461953),\n",
       " 'LogFare': (2.803360380906535, 0.38048562317581447),\n",
       " 'Pclass': (1, 0.3815544200436083)}"
      ]
     },
     "execution_count": 19,
     "metadata": {},
     "output_type": "execute_result"
    }
   ],
   "source": [
    "{o:min_col(males, o) for o in cols}"
   ]
  },
  {
   "cell_type": "code",
   "execution_count": 20,
   "id": "cdf6fcc9",
   "metadata": {
    "execution": {
     "iopub.execute_input": "2025-03-10T21:27:40.749762Z",
     "iopub.status.busy": "2025-03-10T21:27:40.749250Z",
     "iopub.status.idle": "2025-03-10T21:27:40.865332Z",
     "shell.execute_reply": "2025-03-10T21:27:40.864295Z"
    },
    "papermill": {
     "duration": 0.128523,
     "end_time": "2025-03-10T21:27:40.867164",
     "exception": false,
     "start_time": "2025-03-10T21:27:40.738641",
     "status": "completed"
    },
    "tags": []
   },
   "outputs": [
    {
     "data": {
      "text/plain": [
       "{'Embarked': (0, 0.4295252982857326),\n",
       " 'Age': (50.0, 0.4225927658431646),\n",
       " 'SibSp': (4, 0.42319212059713585),\n",
       " 'Parch': (3, 0.4193314500446157),\n",
       " 'LogFare': (4.256321678298823, 0.413505983329114),\n",
       " 'Pclass': (2, 0.3335388911567602)}"
      ]
     },
     "execution_count": 20,
     "metadata": {},
     "output_type": "execute_result"
    }
   ],
   "source": [
    "{o:min_col(females, o) for o in cols}"
   ]
  },
  {
   "cell_type": "code",
   "execution_count": 21,
   "id": "907b20fd",
   "metadata": {
    "execution": {
     "iopub.execute_input": "2025-03-10T21:27:40.883003Z",
     "iopub.status.busy": "2025-03-10T21:27:40.882590Z",
     "iopub.status.idle": "2025-03-10T21:27:41.184327Z",
     "shell.execute_reply": "2025-03-10T21:27:41.183220Z"
    },
    "papermill": {
     "duration": 0.311861,
     "end_time": "2025-03-10T21:27:41.186249",
     "exception": false,
     "start_time": "2025-03-10T21:27:40.874388",
     "status": "completed"
    },
    "tags": []
   },
   "outputs": [],
   "source": [
    "from sklearn.tree import DecisionTreeClassifier, export_graphviz\n",
    "\n",
    "m = DecisionTreeClassifier(max_leaf_nodes=4).fit(trn_xs, trn_y);"
   ]
  },
  {
   "cell_type": "code",
   "execution_count": 22,
   "id": "3207460b",
   "metadata": {
    "execution": {
     "iopub.execute_input": "2025-03-10T21:27:41.202049Z",
     "iopub.status.busy": "2025-03-10T21:27:41.201720Z",
     "iopub.status.idle": "2025-03-10T21:27:41.268718Z",
     "shell.execute_reply": "2025-03-10T21:27:41.267580Z"
    },
    "papermill": {
     "duration": 0.076971,
     "end_time": "2025-03-10T21:27:41.270687",
     "exception": false,
     "start_time": "2025-03-10T21:27:41.193716",
     "status": "completed"
    },
    "tags": []
   },
   "outputs": [],
   "source": [
    "import graphviz\n",
    "\n",
    "def draw_tree(t, df, size=10, ratio=0.6, precision=2, **kwargs):\n",
    "    s=export_graphviz(t, out_file=None, feature_names=df.columns, filled=True, rounded=False, special_characters=True, rotate=False, precision=precision, **kwargs)\n",
    "    return graphviz.Source(re.sub('Tree {', f'Tree {{ size={size}; ratio={ratio}', s))"
   ]
  },
  {
   "cell_type": "code",
   "execution_count": 23,
   "id": "daba76de",
   "metadata": {
    "execution": {
     "iopub.execute_input": "2025-03-10T21:27:41.286867Z",
     "iopub.status.busy": "2025-03-10T21:27:41.286495Z",
     "iopub.status.idle": "2025-03-10T21:27:41.567298Z",
     "shell.execute_reply": "2025-03-10T21:27:41.566117Z"
    },
    "papermill": {
     "duration": 0.291078,
     "end_time": "2025-03-10T21:27:41.569178",
     "exception": false,
     "start_time": "2025-03-10T21:27:41.278100",
     "status": "completed"
    },
    "tags": []
   },
   "outputs": [
    {
     "data": {
      "image/svg+xml": [
       "<?xml version=\"1.0\" encoding=\"UTF-8\" standalone=\"no\"?>\n",
       "<!DOCTYPE svg PUBLIC \"-//W3C//DTD SVG 1.1//EN\"\n",
       " \"http://www.w3.org/Graphics/SVG/1.1/DTD/svg11.dtd\">\n",
       "<!-- Generated by graphviz version 2.43.0 (0)\n",
       " -->\n",
       "<!-- Title: Tree Pages: 1 -->\n",
       "<svg width=\"507pt\" height=\"307pt\"\n",
       " viewBox=\"0.00 0.00 506.50 306.80\" xmlns=\"http://www.w3.org/2000/svg\" xmlns:xlink=\"http://www.w3.org/1999/xlink\">\n",
       "<g id=\"graph0\" class=\"graph\" transform=\"scale(1 1) rotate(0) translate(4 302.8)\">\n",
       "<title>Tree</title>\n",
       "<polygon fill=\"white\" stroke=\"transparent\" points=\"-4,4 -4,-302.8 502.5,-302.8 502.5,4 -4,4\"/>\n",
       "<!-- 0 -->\n",
       "<g id=\"node1\" class=\"node\">\n",
       "<title>0</title>\n",
       "<polygon fill=\"#f5ceb2\" stroke=\"black\" points=\"309.5,-294 184.5,-294 184.5,-226 309.5,-226 309.5,-294\"/>\n",
       "<text text-anchor=\"start\" x=\"218\" y=\"-278.8\" font-family=\"Helvetica,sans-Serif\" font-size=\"14.00\">Sex ≤ 0.5</text>\n",
       "<text text-anchor=\"start\" x=\"215\" y=\"-263.8\" font-family=\"Helvetica,sans-Serif\" font-size=\"14.00\">gini = 0.47</text>\n",
       "<text text-anchor=\"start\" x=\"202\" y=\"-248.8\" font-family=\"Helvetica,sans-Serif\" font-size=\"14.00\">samples = 668</text>\n",
       "<text text-anchor=\"start\" x=\"192.5\" y=\"-233.8\" font-family=\"Helvetica,sans-Serif\" font-size=\"14.00\">value = [415, 253]</text>\n",
       "</g>\n",
       "<!-- 1 -->\n",
       "<g id=\"node2\" class=\"node\">\n",
       "<title>1</title>\n",
       "<polygon fill=\"#7ebfee\" stroke=\"black\" points=\"238.5,-175 121.5,-175 121.5,-107 238.5,-107 238.5,-175\"/>\n",
       "<text text-anchor=\"start\" x=\"143\" y=\"-159.8\" font-family=\"Helvetica,sans-Serif\" font-size=\"14.00\">Pclass ≤ 2.5</text>\n",
       "<text text-anchor=\"start\" x=\"148\" y=\"-144.8\" font-family=\"Helvetica,sans-Serif\" font-size=\"14.00\">gini = 0.38</text>\n",
       "<text text-anchor=\"start\" x=\"135\" y=\"-129.8\" font-family=\"Helvetica,sans-Serif\" font-size=\"14.00\">samples = 229</text>\n",
       "<text text-anchor=\"start\" x=\"129.5\" y=\"-114.8\" font-family=\"Helvetica,sans-Serif\" font-size=\"14.00\">value = [59, 170]</text>\n",
       "</g>\n",
       "<!-- 0&#45;&gt;1 -->\n",
       "<g id=\"edge1\" class=\"edge\">\n",
       "<title>0&#45;&gt;1</title>\n",
       "<path fill=\"none\" stroke=\"black\" d=\"M227.98,-225.79C220.55,-212.82 211.95,-197.8 204.1,-184.08\"/>\n",
       "<polygon fill=\"black\" stroke=\"black\" points=\"207.07,-182.24 199.07,-175.3 201,-185.71 207.07,-182.24\"/>\n",
       "<text text-anchor=\"middle\" x=\"192.51\" y=\"-195.72\" font-family=\"Helvetica,sans-Serif\" font-size=\"14.00\">True</text>\n",
       "</g>\n",
       "<!-- 2 -->\n",
       "<g id=\"node5\" class=\"node\">\n",
       "<title>2</title>\n",
       "<polygon fill=\"#eb9e67\" stroke=\"black\" points=\"373.5,-175 256.5,-175 256.5,-107 373.5,-107 373.5,-175\"/>\n",
       "<text text-anchor=\"start\" x=\"286\" y=\"-159.8\" font-family=\"Helvetica,sans-Serif\" font-size=\"14.00\">Age ≤ 6.5</text>\n",
       "<text text-anchor=\"start\" x=\"283\" y=\"-144.8\" font-family=\"Helvetica,sans-Serif\" font-size=\"14.00\">gini = 0.31</text>\n",
       "<text text-anchor=\"start\" x=\"270\" y=\"-129.8\" font-family=\"Helvetica,sans-Serif\" font-size=\"14.00\">samples = 439</text>\n",
       "<text text-anchor=\"start\" x=\"264.5\" y=\"-114.8\" font-family=\"Helvetica,sans-Serif\" font-size=\"14.00\">value = [356, 83]</text>\n",
       "</g>\n",
       "<!-- 0&#45;&gt;2 -->\n",
       "<g id=\"edge4\" class=\"edge\">\n",
       "<title>0&#45;&gt;2</title>\n",
       "<path fill=\"none\" stroke=\"black\" d=\"M266.3,-225.79C273.84,-212.82 282.57,-197.8 290.54,-184.08\"/>\n",
       "<polygon fill=\"black\" stroke=\"black\" points=\"293.65,-185.7 295.65,-175.3 287.6,-182.18 293.65,-185.7\"/>\n",
       "<text text-anchor=\"middle\" x=\"302.05\" y=\"-195.76\" font-family=\"Helvetica,sans-Serif\" font-size=\"14.00\">False</text>\n",
       "</g>\n",
       "<!-- 3 -->\n",
       "<g id=\"node3\" class=\"node\">\n",
       "<title>3</title>\n",
       "<polygon fill=\"#40a0e6\" stroke=\"black\" points=\"110,-56.5 0,-56.5 0,-3.5 110,-3.5 110,-56.5\"/>\n",
       "<text text-anchor=\"start\" x=\"23\" y=\"-41.3\" font-family=\"Helvetica,sans-Serif\" font-size=\"14.00\">gini = 0.06</text>\n",
       "<text text-anchor=\"start\" x=\"10\" y=\"-26.3\" font-family=\"Helvetica,sans-Serif\" font-size=\"14.00\">samples = 120</text>\n",
       "<text text-anchor=\"start\" x=\"8\" y=\"-11.3\" font-family=\"Helvetica,sans-Serif\" font-size=\"14.00\">value = [4, 116]</text>\n",
       "</g>\n",
       "<!-- 1&#45;&gt;3 -->\n",
       "<g id=\"edge2\" class=\"edge\">\n",
       "<title>1&#45;&gt;3</title>\n",
       "<path fill=\"none\" stroke=\"black\" d=\"M141.82,-106.7C126.16,-93.06 108.1,-77.31 92.52,-63.72\"/>\n",
       "<polygon fill=\"black\" stroke=\"black\" points=\"94.46,-60.77 84.62,-56.83 89.86,-66.04 94.46,-60.77\"/>\n",
       "</g>\n",
       "<!-- 4 -->\n",
       "<g id=\"node4\" class=\"node\">\n",
       "<title>4</title>\n",
       "<polygon fill=\"#fffdfb\" stroke=\"black\" points=\"238,-56.5 128,-56.5 128,-3.5 238,-3.5 238,-56.5\"/>\n",
       "<text text-anchor=\"start\" x=\"155\" y=\"-41.3\" font-family=\"Helvetica,sans-Serif\" font-size=\"14.00\">gini = 0.5</text>\n",
       "<text text-anchor=\"start\" x=\"138\" y=\"-26.3\" font-family=\"Helvetica,sans-Serif\" font-size=\"14.00\">samples = 109</text>\n",
       "<text text-anchor=\"start\" x=\"136\" y=\"-11.3\" font-family=\"Helvetica,sans-Serif\" font-size=\"14.00\">value = [55, 54]</text>\n",
       "</g>\n",
       "<!-- 1&#45;&gt;4 -->\n",
       "<g id=\"edge3\" class=\"edge\">\n",
       "<title>1&#45;&gt;4</title>\n",
       "<path fill=\"none\" stroke=\"black\" d=\"M180.92,-106.7C181.26,-94.18 181.65,-79.89 182.01,-67.13\"/>\n",
       "<polygon fill=\"black\" stroke=\"black\" points=\"185.51,-66.92 182.29,-56.83 178.52,-66.73 185.51,-66.92\"/>\n",
       "</g>\n",
       "<!-- 5 -->\n",
       "<g id=\"node6\" class=\"node\">\n",
       "<title>5</title>\n",
       "<polygon fill=\"#88c4ef\" stroke=\"black\" points=\"363,-56.5 261,-56.5 261,-3.5 363,-3.5 363,-56.5\"/>\n",
       "<text text-anchor=\"start\" x=\"280\" y=\"-41.3\" font-family=\"Helvetica,sans-Serif\" font-size=\"14.00\">gini = 0.41</text>\n",
       "<text text-anchor=\"start\" x=\"271\" y=\"-26.3\" font-family=\"Helvetica,sans-Serif\" font-size=\"14.00\">samples = 21</text>\n",
       "<text text-anchor=\"start\" x=\"269\" y=\"-11.3\" font-family=\"Helvetica,sans-Serif\" font-size=\"14.00\">value = [6, 15]</text>\n",
       "</g>\n",
       "<!-- 2&#45;&gt;5 -->\n",
       "<g id=\"edge5\" class=\"edge\">\n",
       "<title>2&#45;&gt;5</title>\n",
       "<path fill=\"none\" stroke=\"black\" d=\"M314.08,-106.7C313.74,-94.18 313.35,-79.89 312.99,-67.13\"/>\n",
       "<polygon fill=\"black\" stroke=\"black\" points=\"316.48,-66.73 312.71,-56.83 309.49,-66.92 316.48,-66.73\"/>\n",
       "</g>\n",
       "<!-- 6 -->\n",
       "<g id=\"node7\" class=\"node\">\n",
       "<title>6</title>\n",
       "<polygon fill=\"#ea995f\" stroke=\"black\" points=\"498.5,-56.5 381.5,-56.5 381.5,-3.5 498.5,-3.5 498.5,-56.5\"/>\n",
       "<text text-anchor=\"start\" x=\"408\" y=\"-41.3\" font-family=\"Helvetica,sans-Serif\" font-size=\"14.00\">gini = 0.27</text>\n",
       "<text text-anchor=\"start\" x=\"395\" y=\"-26.3\" font-family=\"Helvetica,sans-Serif\" font-size=\"14.00\">samples = 418</text>\n",
       "<text text-anchor=\"start\" x=\"389.5\" y=\"-11.3\" font-family=\"Helvetica,sans-Serif\" font-size=\"14.00\">value = [350, 68]</text>\n",
       "</g>\n",
       "<!-- 2&#45;&gt;6 -->\n",
       "<g id=\"edge6\" class=\"edge\">\n",
       "<title>2&#45;&gt;6</title>\n",
       "<path fill=\"none\" stroke=\"black\" d=\"M353.18,-106.7C368.84,-93.06 386.9,-77.31 402.48,-63.72\"/>\n",
       "<polygon fill=\"black\" stroke=\"black\" points=\"405.14,-66.04 410.38,-56.83 400.54,-60.77 405.14,-66.04\"/>\n",
       "</g>\n",
       "</g>\n",
       "</svg>\n"
      ],
      "text/plain": [
       "<graphviz.sources.Source at 0x79d53f8eace0>"
      ]
     },
     "execution_count": 23,
     "metadata": {},
     "output_type": "execute_result"
    }
   ],
   "source": [
    "draw_tree(m, trn_xs, size=10)"
   ]
  },
  {
   "cell_type": "code",
   "execution_count": 24,
   "id": "744bec07",
   "metadata": {
    "execution": {
     "iopub.execute_input": "2025-03-10T21:27:41.586262Z",
     "iopub.status.busy": "2025-03-10T21:27:41.585803Z",
     "iopub.status.idle": "2025-03-10T21:27:41.590606Z",
     "shell.execute_reply": "2025-03-10T21:27:41.589573Z"
    },
    "papermill": {
     "duration": 0.014658,
     "end_time": "2025-03-10T21:27:41.592157",
     "exception": false,
     "start_time": "2025-03-10T21:27:41.577499",
     "status": "completed"
    },
    "tags": []
   },
   "outputs": [],
   "source": [
    "def get_tree(prop=0.75):\n",
    "    n = len(trn_y)\n",
    "    idxs = random.choice(n, int(n*prop))\n",
    "    return DecisionTreeClassifier(min_samples_leaf=5).fit(trn_xs.iloc[idxs], trn_y.iloc[idxs])"
   ]
  },
  {
   "cell_type": "code",
   "execution_count": 25,
   "id": "90257618",
   "metadata": {
    "execution": {
     "iopub.execute_input": "2025-03-10T21:27:41.609695Z",
     "iopub.status.busy": "2025-03-10T21:27:41.609282Z",
     "iopub.status.idle": "2025-03-10T21:27:41.890549Z",
     "shell.execute_reply": "2025-03-10T21:27:41.889524Z"
    },
    "papermill": {
     "duration": 0.291675,
     "end_time": "2025-03-10T21:27:41.892475",
     "exception": false,
     "start_time": "2025-03-10T21:27:41.600800",
     "status": "completed"
    },
    "tags": []
   },
   "outputs": [],
   "source": [
    "trees = [get_tree() for t in range(100)]"
   ]
  },
  {
   "cell_type": "code",
   "execution_count": 26,
   "id": "78c735b3",
   "metadata": {
    "execution": {
     "iopub.execute_input": "2025-03-10T21:27:41.909672Z",
     "iopub.status.busy": "2025-03-10T21:27:41.909266Z",
     "iopub.status.idle": "2025-03-10T21:27:42.040395Z",
     "shell.execute_reply": "2025-03-10T21:27:42.039403Z"
    },
    "papermill": {
     "duration": 0.141781,
     "end_time": "2025-03-10T21:27:42.042304",
     "exception": false,
     "start_time": "2025-03-10T21:27:41.900523",
     "status": "completed"
    },
    "tags": []
   },
   "outputs": [
    {
     "data": {
      "text/plain": [
       "0.2272645739910314"
      ]
     },
     "execution_count": 26,
     "metadata": {},
     "output_type": "execute_result"
    }
   ],
   "source": [
    "all_probs = [t.predict(val_xs) for t in trees]\n",
    "avg_probs = np.stack(all_probs).mean(0)\n",
    "\n",
    "mean_absolute_error(val_y, avg_probs)"
   ]
  },
  {
   "cell_type": "code",
   "execution_count": 27,
   "id": "ca517f65",
   "metadata": {
    "execution": {
     "iopub.execute_input": "2025-03-10T21:27:42.059309Z",
     "iopub.status.busy": "2025-03-10T21:27:42.058947Z",
     "iopub.status.idle": "2025-03-10T21:27:42.379776Z",
     "shell.execute_reply": "2025-03-10T21:27:42.378653Z"
    },
    "papermill": {
     "duration": 0.33147,
     "end_time": "2025-03-10T21:27:42.381713",
     "exception": false,
     "start_time": "2025-03-10T21:27:42.050243",
     "status": "completed"
    },
    "tags": []
   },
   "outputs": [
    {
     "data": {
      "text/plain": [
       "0.18834080717488788"
      ]
     },
     "execution_count": 27,
     "metadata": {},
     "output_type": "execute_result"
    }
   ],
   "source": [
    "from sklearn.ensemble import RandomForestClassifier\n",
    "\n",
    "rf = RandomForestClassifier(100, min_samples_leaf=5)\n",
    "rf.fit(trn_xs, trn_y);\n",
    "mean_absolute_error(val_y, rf.predict(val_xs))"
   ]
  },
  {
   "cell_type": "code",
   "execution_count": 28,
   "id": "b5722a89",
   "metadata": {
    "execution": {
     "iopub.execute_input": "2025-03-10T21:27:42.399071Z",
     "iopub.status.busy": "2025-03-10T21:27:42.398724Z",
     "iopub.status.idle": "2025-03-10T21:27:42.668509Z",
     "shell.execute_reply": "2025-03-10T21:27:42.667495Z"
    },
    "papermill": {
     "duration": 0.280361,
     "end_time": "2025-03-10T21:27:42.670257",
     "exception": false,
     "start_time": "2025-03-10T21:27:42.389896",
     "status": "completed"
    },
    "tags": []
   },
   "outputs": [
    {
     "data": {
      "text/plain": [
       "<Axes: ylabel='cols'>"
      ]
     },
     "execution_count": 28,
     "metadata": {},
     "output_type": "execute_result"
    },
    {
     "data": {
      "image/png": "[encoded data removed]",
      "text/plain": [
       "<Figure size 640x480 with 1 Axes>"
      ]
     },
     "metadata": {},
     "output_type": "display_data"
    }
   ],
   "source": [
    "pd.DataFrame(dict(cols=trn_xs.columns, imp=m.feature_importances_)).plot('cols', 'imp', 'barh')"
   ]
  }
 ],
 "metadata": {
  "kaggle": {
   "accelerator": "none",
   "dataSources": [
    {
     "databundleVersionId": 26502,
     "sourceId": 3136,
     "sourceType": "competition"
    }
   ],
   "dockerImageVersionId": 30918,
   "isGpuEnabled": false,
   "isInternetEnabled": true,
   "language": "python",
   "sourceType": "notebook"
  },
  "kernelspec": {
   "display_name": "Python 3",
   "language": "python",
   "name": "python3"
  },
  "language_info": {
   "codemirror_mode": {
    "name": "ipython",
    "version": 3
   },
   "file_extension": ".py",
   "mimetype": "text/x-python",
   "name": "python",
   "nbconvert_exporter": "python",
   "pygments_lexer": "ipython3",
   "version": "3.10.12"
  },
  "papermill": {
   "default_parameters": {},
   "duration": 10.388159,
   "end_time": "2025-03-10T21:27:43.398792",
   "environment_variables": {},
   "exception": null,
   "input_path": "__notebook__.ipynb",
   "output_path": "__notebook__.ipynb",
   "parameters": {},
   "start_time": "2025-03-10T21:27:33.010633",
   "version": "2.6.0"
  }
 },
 "nbformat": 4,
 "nbformat_minor": 5
}
