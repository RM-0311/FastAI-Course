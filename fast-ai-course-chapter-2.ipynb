{
 "cells": [
  {
   "cell_type": "code",
   "execution_count": 1,
   "id": "b193d660",
   "metadata": {
    "execution": {
     "iopub.execute_input": "2025-01-29T20:34:53.688280Z",
     "iopub.status.busy": "2025-01-29T20:34:53.688003Z",
     "iopub.status.idle": "2025-01-29T20:35:06.695143Z",
     "shell.execute_reply": "2025-01-29T20:35:06.694251Z"
    },
    "papermill": {
     "duration": 13.012029,
     "end_time": "2025-01-29T20:35:06.696798",
     "exception": false,
     "start_time": "2025-01-29T20:34:53.684769",
     "status": "completed"
    },
    "tags": []
   },
   "outputs": [],
   "source": [
    "from fastai.vision.all import *"
   ]
  },
  {
   "cell_type": "code",
   "execution_count": 2,
   "id": "d7a7326d",
   "metadata": {
    "execution": {
     "iopub.execute_input": "2025-01-29T20:35:06.701526Z",
     "iopub.status.busy": "2025-01-29T20:35:06.701249Z",
     "iopub.status.idle": "2025-01-29T20:35:33.687678Z",
     "shell.execute_reply": "2025-01-29T20:35:33.686761Z"
    },
    "papermill": {
     "duration": 26.990505,
     "end_time": "2025-01-29T20:35:33.689473",
     "exception": false,
     "start_time": "2025-01-29T20:35:06.698968",
     "status": "completed"
    },
    "tags": []
   },
   "outputs": [
    {
     "data": {
      "text/html": [
       "\n",
       "<style>\n",
       "    /* Turns off some styling */\n",
       "    progress {\n",
       "        /* gets rid of default border in Firefox and Opera. */\n",
       "        border: none;\n",
       "        /* Needs to be in here for Safari polyfill so background images work as expected. */\n",
       "        background-size: auto;\n",
       "    }\n",
       "    progress:not([value]), progress:not([value])::-webkit-progress-bar {\n",
       "        background: repeating-linear-gradient(45deg, #7e7e7e, #7e7e7e 10px, #5c5c5c 10px, #5c5c5c 20px);\n",
       "    }\n",
       "    .progress-bar-interrupted, .progress-bar-interrupted::-webkit-progress-bar {\n",
       "        background: #F44336;\n",
       "    }\n",
       "</style>\n"
      ],
      "text/plain": [
       "<IPython.core.display.HTML object>"
      ]
     },
     "metadata": {},
     "output_type": "display_data"
    },
    {
     "data": {
      "text/html": [
       "\n",
       "    <div>\n",
       "      <progress value='811712512' class='' max='811706944' style='width:300px; height:20px; vertical-align: middle;'></progress>\n",
       "      100.00% [811712512/811706944 00:16&lt;00:00]\n",
       "    </div>\n",
       "    "
      ],
      "text/plain": [
       "<IPython.core.display.HTML object>"
      ]
     },
     "metadata": {},
     "output_type": "display_data"
    }
   ],
   "source": [
    "path = untar_data(URLs.PETS)/'images'"
   ]
  },
  {
   "cell_type": "code",
   "execution_count": 3,
   "id": "bf8b175f",
   "metadata": {
    "execution": {
     "iopub.execute_input": "2025-01-29T20:35:33.695912Z",
     "iopub.status.busy": "2025-01-29T20:35:33.695672Z",
     "iopub.status.idle": "2025-01-29T20:35:33.699053Z",
     "shell.execute_reply": "2025-01-29T20:35:33.698426Z"
    },
    "papermill": {
     "duration": 0.007391,
     "end_time": "2025-01-29T20:35:33.700288",
     "exception": false,
     "start_time": "2025-01-29T20:35:33.692897",
     "status": "completed"
    },
    "tags": []
   },
   "outputs": [],
   "source": [
    "def is_cat(x): return x[0].isupper()"
   ]
  },
  {
   "cell_type": "code",
   "execution_count": 4,
   "id": "4e9ac1af",
   "metadata": {
    "execution": {
     "iopub.execute_input": "2025-01-29T20:35:33.704976Z",
     "iopub.status.busy": "2025-01-29T20:35:33.704742Z",
     "iopub.status.idle": "2025-01-29T20:35:34.402089Z",
     "shell.execute_reply": "2025-01-29T20:35:34.401115Z"
    },
    "papermill": {
     "duration": 0.70198,
     "end_time": "2025-01-29T20:35:34.404188",
     "exception": false,
     "start_time": "2025-01-29T20:35:33.702208",
     "status": "completed"
    },
    "tags": []
   },
   "outputs": [],
   "source": [
    "dls = ImageDataLoaders.from_name_func('.',\n",
    "    get_image_files(path), valid_pct=0.2, seed=42,\n",
    "    label_func=is_cat,\n",
    "    item_tfms=Resize(192))"
   ]
  },
  {
   "cell_type": "code",
   "execution_count": 5,
   "id": "403fc1d2",
   "metadata": {
    "execution": {
     "iopub.execute_input": "2025-01-29T20:35:34.411816Z",
     "iopub.status.busy": "2025-01-29T20:35:34.411536Z",
     "iopub.status.idle": "2025-01-29T20:36:50.820004Z",
     "shell.execute_reply": "2025-01-29T20:36:50.819157Z"
    },
    "papermill": {
     "duration": 76.4136,
     "end_time": "2025-01-29T20:36:50.821340",
     "exception": false,
     "start_time": "2025-01-29T20:35:34.407740",
     "status": "completed"
    },
    "tags": []
   },
   "outputs": [
    {
     "name": "stderr",
     "output_type": "stream",
     "text": [
      "Downloading: \"https://download.pytorch.org/models/resnet18-f37072fd.pth\" to /root/.cache/torch/hub/checkpoints/resnet18-f37072fd.pth\n",
      "100%|██████████| 44.7M/44.7M [00:00<00:00, 144MB/s]\n"
     ]
    },
    {
     "data": {
      "text/html": [
       "\n",
       "<style>\n",
       "    /* Turns off some styling */\n",
       "    progress {\n",
       "        /* gets rid of default border in Firefox and Opera. */\n",
       "        border: none;\n",
       "        /* Needs to be in here for Safari polyfill so background images work as expected. */\n",
       "        background-size: auto;\n",
       "    }\n",
       "    progress:not([value]), progress:not([value])::-webkit-progress-bar {\n",
       "        background: repeating-linear-gradient(45deg, #7e7e7e, #7e7e7e 10px, #5c5c5c 10px, #5c5c5c 20px);\n",
       "    }\n",
       "    .progress-bar-interrupted, .progress-bar-interrupted::-webkit-progress-bar {\n",
       "        background: #F44336;\n",
       "    }\n",
       "</style>\n"
      ],
      "text/plain": [
       "<IPython.core.display.HTML object>"
      ]
     },
     "metadata": {},
     "output_type": "display_data"
    },
    {
     "data": {
      "text/html": [
       "<table border=\"1\" class=\"dataframe\">\n",
       "  <thead>\n",
       "    <tr style=\"text-align: left;\">\n",
       "      <th>epoch</th>\n",
       "      <th>train_loss</th>\n",
       "      <th>valid_loss</th>\n",
       "      <th>error_rate</th>\n",
       "      <th>time</th>\n",
       "    </tr>\n",
       "  </thead>\n",
       "  <tbody>\n",
       "    <tr>\n",
       "      <td>0</td>\n",
       "      <td>0.180568</td>\n",
       "      <td>0.056644</td>\n",
       "      <td>0.019621</td>\n",
       "      <td>00:18</td>\n",
       "    </tr>\n",
       "  </tbody>\n",
       "</table>"
      ],
      "text/plain": [
       "<IPython.core.display.HTML object>"
      ]
     },
     "metadata": {},
     "output_type": "display_data"
    },
    {
     "data": {
      "text/html": [
       "\n",
       "<style>\n",
       "    /* Turns off some styling */\n",
       "    progress {\n",
       "        /* gets rid of default border in Firefox and Opera. */\n",
       "        border: none;\n",
       "        /* Needs to be in here for Safari polyfill so background images work as expected. */\n",
       "        background-size: auto;\n",
       "    }\n",
       "    progress:not([value]), progress:not([value])::-webkit-progress-bar {\n",
       "        background: repeating-linear-gradient(45deg, #7e7e7e, #7e7e7e 10px, #5c5c5c 10px, #5c5c5c 20px);\n",
       "    }\n",
       "    .progress-bar-interrupted, .progress-bar-interrupted::-webkit-progress-bar {\n",
       "        background: #F44336;\n",
       "    }\n",
       "</style>\n"
      ],
      "text/plain": [
       "<IPython.core.display.HTML object>"
      ]
     },
     "metadata": {},
     "output_type": "display_data"
    },
    {
     "data": {
      "text/html": [
       "<table border=\"1\" class=\"dataframe\">\n",
       "  <thead>\n",
       "    <tr style=\"text-align: left;\">\n",
       "      <th>epoch</th>\n",
       "      <th>train_loss</th>\n",
       "      <th>valid_loss</th>\n",
       "      <th>error_rate</th>\n",
       "      <th>time</th>\n",
       "    </tr>\n",
       "  </thead>\n",
       "  <tbody>\n",
       "    <tr>\n",
       "      <td>0</td>\n",
       "      <td>0.095372</td>\n",
       "      <td>0.073001</td>\n",
       "      <td>0.019621</td>\n",
       "      <td>00:19</td>\n",
       "    </tr>\n",
       "    <tr>\n",
       "      <td>1</td>\n",
       "      <td>0.034977</td>\n",
       "      <td>0.027461</td>\n",
       "      <td>0.010149</td>\n",
       "      <td>00:18</td>\n",
       "    </tr>\n",
       "    <tr>\n",
       "      <td>2</td>\n",
       "      <td>0.017613</td>\n",
       "      <td>0.027301</td>\n",
       "      <td>0.008796</td>\n",
       "      <td>00:18</td>\n",
       "    </tr>\n",
       "  </tbody>\n",
       "</table>"
      ],
      "text/plain": [
       "<IPython.core.display.HTML object>"
      ]
     },
     "metadata": {},
     "output_type": "display_data"
    }
   ],
   "source": [
    "learn = vision_learner(dls, resnet18, metrics=error_rate)\n",
    "learn.fine_tune(3)"
   ]
  },
  {
   "cell_type": "code",
   "execution_count": 6,
   "id": "b3e35198",
   "metadata": {
    "execution": {
     "iopub.execute_input": "2025-01-29T20:36:50.827853Z",
     "iopub.status.busy": "2025-01-29T20:36:50.827601Z",
     "iopub.status.idle": "2025-01-29T20:36:50.936573Z",
     "shell.execute_reply": "2025-01-29T20:36:50.935846Z"
    },
    "papermill": {
     "duration": 0.113831,
     "end_time": "2025-01-29T20:36:50.938112",
     "exception": false,
     "start_time": "2025-01-29T20:36:50.824281",
     "status": "completed"
    },
    "tags": []
   },
   "outputs": [],
   "source": [
    "learn.export('model.pkl')"
   ]
  }
 ],
 "metadata": {
  "kaggle": {
   "accelerator": "gpu",
   "dataSources": [],
   "dockerImageVersionId": 30839,
   "isGpuEnabled": true,
   "isInternetEnabled": true,
   "language": "python",
   "sourceType": "notebook"
  },
  "kernelspec": {
   "display_name": "Python 3",
   "language": "python",
   "name": "python3"
  },
  "language_info": {
   "codemirror_mode": {
    "name": "ipython",
    "version": 3
   },
   "file_extension": ".py",
   "mimetype": "text/x-python",
   "name": "python",
   "nbconvert_exporter": "python",
   "pygments_lexer": "ipython3",
   "version": "3.10.12"
  },
  "papermill": {
   "default_parameters": {},
   "duration": 122.804779,
   "end_time": "2025-01-29T20:36:53.958815",
   "environment_variables": {},
   "exception": null,
   "input_path": "__notebook__.ipynb",
   "output_path": "__notebook__.ipynb",
   "parameters": {},
   "start_time": "2025-01-29T20:34:51.154036",
   "version": "2.6.0"
  }
 },
 "nbformat": 4,
 "nbformat_minor": 5
}
