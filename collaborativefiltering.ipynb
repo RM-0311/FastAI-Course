{
 "cells": [
  {
   "cell_type": "code",
   "execution_count": 1,
   "id": "a3d5b4f7",
   "metadata": {
    "_cell_guid": "b1076dfc-b9ad-4769-8c92-a6c4dae69d19",
    "_uuid": "8f2839f25d086af736a60e9eeb907d3b93b6e0e5",
    "execution": {
     "iopub.execute_input": "2025-03-15T20:27:36.448794Z",
     "iopub.status.busy": "2025-03-15T20:27:36.448464Z",
     "iopub.status.idle": "2025-03-15T20:27:44.322156Z",
     "shell.execute_reply": "2025-03-15T20:27:44.320809Z"
    },
    "papermill": {
     "duration": 7.879442,
     "end_time": "2025-03-15T20:27:44.324303",
     "exception": false,
     "start_time": "2025-03-15T20:27:36.444861",
     "status": "completed"
    },
    "tags": []
   },
   "outputs": [],
   "source": [
    "from fastai.collab import *\n",
    "from fastai.tabular.all import *\n",
    "set_seed(42)"
   ]
  },
  {
   "cell_type": "code",
   "execution_count": null,
   "id": "979e95ab",
   "metadata": {
    "papermill": {
     "duration": 0.001782,
     "end_time": "2025-03-15T20:27:44.329084",
     "exception": false,
     "start_time": "2025-03-15T20:27:44.327302",
     "status": "completed"
    },
    "tags": []
   },
   "outputs": [],
   "source": []
  }
 ],
 "metadata": {
  "kaggle": {
   "accelerator": "none",
   "dataSources": [],
   "dockerImageVersionId": 30918,
   "isGpuEnabled": false,
   "isInternetEnabled": true,
   "language": "python",
   "sourceType": "notebook"
  },
  "kernelspec": {
   "display_name": "Python 3",
   "language": "python",
   "name": "python3"
  },
  "language_info": {
   "codemirror_mode": {
    "name": "ipython",
    "version": 3
   },
   "file_extension": ".py",
   "mimetype": "text/x-python",
   "name": "python",
   "nbconvert_exporter": "python",
   "pygments_lexer": "ipython3",
   "version": "3.10.12"
  },
  "papermill": {
   "default_parameters": {},
   "duration": 12.407947,
   "end_time": "2025-03-15T20:27:46.056333",
   "environment_variables": {},
   "exception": null,
   "input_path": "__notebook__.ipynb",
   "output_path": "__notebook__.ipynb",
   "parameters": {},
   "start_time": "2025-03-15T20:27:33.648386",
   "version": "2.6.0"
  }
 },
 "nbformat": 4,
 "nbformat_minor": 5
}
