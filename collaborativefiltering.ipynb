{
 "cells": [
  {
   "cell_type": "code",
   "execution_count": 1,
   "id": "3d8d53e8",
   "metadata": {
    "_cell_guid": "b1076dfc-b9ad-4769-8c92-a6c4dae69d19",
    "_uuid": "8f2839f25d086af736a60e9eeb907d3b93b6e0e5",
    "execution": {
     "iopub.execute_input": "2025-03-20T20:36:03.067780Z",
     "iopub.status.busy": "2025-03-20T20:36:03.067438Z",
     "iopub.status.idle": "2025-03-20T20:36:10.037336Z",
     "shell.execute_reply": "2025-03-20T20:36:10.036318Z"
    },
    "papermill": {
     "duration": 6.97872,
     "end_time": "2025-03-20T20:36:10.039077",
     "exception": false,
     "start_time": "2025-03-20T20:36:03.060357",
     "status": "completed"
    },
    "tags": []
   },
   "outputs": [],
   "source": [
    "from fastai.collab import *\n",
    "from fastai.tabular.all import *\n",
    "set_seed(42)"
   ]
  },
  {
   "cell_type": "code",
   "execution_count": 2,
   "id": "69be5006",
   "metadata": {
    "execution": {
     "iopub.execute_input": "2025-03-20T20:36:10.051039Z",
     "iopub.status.busy": "2025-03-20T20:36:10.050538Z",
     "iopub.status.idle": "2025-03-20T20:36:10.739525Z",
     "shell.execute_reply": "2025-03-20T20:36:10.738673Z"
    },
    "papermill": {
     "duration": 0.696969,
     "end_time": "2025-03-20T20:36:10.741398",
     "exception": false,
     "start_time": "2025-03-20T20:36:10.044429",
     "status": "completed"
    },
    "tags": []
   },
   "outputs": [
    {
     "data": {
      "text/html": [
       "\n",
       "<style>\n",
       "    /* Turns off some styling */\n",
       "    progress {\n",
       "        /* gets rid of default border in Firefox and Opera. */\n",
       "        border: none;\n",
       "        /* Needs to be in here for Safari polyfill so background images work as expected. */\n",
       "        background-size: auto;\n",
       "    }\n",
       "    progress:not([value]), progress:not([value])::-webkit-progress-bar {\n",
       "        background: repeating-linear-gradient(45deg, #7e7e7e, #7e7e7e 10px, #5c5c5c 10px, #5c5c5c 20px);\n",
       "    }\n",
       "    .progress-bar-interrupted, .progress-bar-interrupted::-webkit-progress-bar {\n",
       "        background: #F44336;\n",
       "    }\n",
       "</style>\n"
      ],
      "text/plain": [
       "<IPython.core.display.HTML object>"
      ]
     },
     "metadata": {},
     "output_type": "display_data"
    },
    {
     "data": {
      "text/html": [
       "\n",
       "    <div>\n",
       "      <progress value='4931584' class='' max='4924029' style='width:300px; height:20px; vertical-align: middle;'></progress>\n",
       "      100.15% [4931584/4924029 00:00&lt;00:00]\n",
       "    </div>\n",
       "    "
      ],
      "text/plain": [
       "<IPython.core.display.HTML object>"
      ]
     },
     "metadata": {},
     "output_type": "display_data"
    }
   ],
   "source": [
    "path = untar_data(URLs.ML_100k)"
   ]
  },
  {
   "cell_type": "code",
   "execution_count": 3,
   "id": "70730c6c",
   "metadata": {
    "execution": {
     "iopub.execute_input": "2025-03-20T20:36:10.753843Z",
     "iopub.status.busy": "2025-03-20T20:36:10.753531Z",
     "iopub.status.idle": "2025-03-20T20:36:10.825108Z",
     "shell.execute_reply": "2025-03-20T20:36:10.824074Z"
    },
    "papermill": {
     "duration": 0.079551,
     "end_time": "2025-03-20T20:36:10.826838",
     "exception": false,
     "start_time": "2025-03-20T20:36:10.747287",
     "status": "completed"
    },
    "tags": []
   },
   "outputs": [
    {
     "data": {
      "text/html": [
       "<div>\n",
       "<style scoped>\n",
       "    .dataframe tbody tr th:only-of-type {\n",
       "        vertical-align: middle;\n",
       "    }\n",
       "\n",
       "    .dataframe tbody tr th {\n",
       "        vertical-align: top;\n",
       "    }\n",
       "\n",
       "    .dataframe thead th {\n",
       "        text-align: right;\n",
       "    }\n",
       "</style>\n",
       "<table border=\"1\" class=\"dataframe\">\n",
       "  <thead>\n",
       "    <tr style=\"text-align: right;\">\n",
       "      <th></th>\n",
       "      <th>user</th>\n",
       "      <th>movie</th>\n",
       "      <th>rating</th>\n",
       "      <th>timestamp</th>\n",
       "    </tr>\n",
       "  </thead>\n",
       "  <tbody>\n",
       "    <tr>\n",
       "      <th>0</th>\n",
       "      <td>196</td>\n",
       "      <td>242</td>\n",
       "      <td>3</td>\n",
       "      <td>881250949</td>\n",
       "    </tr>\n",
       "    <tr>\n",
       "      <th>1</th>\n",
       "      <td>186</td>\n",
       "      <td>302</td>\n",
       "      <td>3</td>\n",
       "      <td>891717742</td>\n",
       "    </tr>\n",
       "    <tr>\n",
       "      <th>2</th>\n",
       "      <td>22</td>\n",
       "      <td>377</td>\n",
       "      <td>1</td>\n",
       "      <td>878887116</td>\n",
       "    </tr>\n",
       "    <tr>\n",
       "      <th>3</th>\n",
       "      <td>244</td>\n",
       "      <td>51</td>\n",
       "      <td>2</td>\n",
       "      <td>880606923</td>\n",
       "    </tr>\n",
       "    <tr>\n",
       "      <th>4</th>\n",
       "      <td>166</td>\n",
       "      <td>346</td>\n",
       "      <td>1</td>\n",
       "      <td>886397596</td>\n",
       "    </tr>\n",
       "  </tbody>\n",
       "</table>\n",
       "</div>"
      ],
      "text/plain": [
       "   user  movie  rating  timestamp\n",
       "0   196    242       3  881250949\n",
       "1   186    302       3  891717742\n",
       "2    22    377       1  878887116\n",
       "3   244     51       2  880606923\n",
       "4   166    346       1  886397596"
      ]
     },
     "execution_count": 3,
     "metadata": {},
     "output_type": "execute_result"
    }
   ],
   "source": [
    "ratings = pd.read_csv(path/'u.data', delimiter='\\t', header=None,\n",
    "                     names=['user', 'movie', 'rating', 'timestamp'])\n",
    "ratings.head()"
   ]
  },
  {
   "cell_type": "code",
   "execution_count": 4,
   "id": "89453ec7",
   "metadata": {
    "execution": {
     "iopub.execute_input": "2025-03-20T20:36:10.839814Z",
     "iopub.status.busy": "2025-03-20T20:36:10.839491Z",
     "iopub.status.idle": "2025-03-20T20:36:10.857422Z",
     "shell.execute_reply": "2025-03-20T20:36:10.856096Z"
    },
    "papermill": {
     "duration": 0.026003,
     "end_time": "2025-03-20T20:36:10.858879",
     "exception": false,
     "start_time": "2025-03-20T20:36:10.832876",
     "status": "completed"
    },
    "tags": []
   },
   "outputs": [
    {
     "data": {
      "text/html": [
       "<div>\n",
       "<style scoped>\n",
       "    .dataframe tbody tr th:only-of-type {\n",
       "        vertical-align: middle;\n",
       "    }\n",
       "\n",
       "    .dataframe tbody tr th {\n",
       "        vertical-align: top;\n",
       "    }\n",
       "\n",
       "    .dataframe thead th {\n",
       "        text-align: right;\n",
       "    }\n",
       "</style>\n",
       "<table border=\"1\" class=\"dataframe\">\n",
       "  <thead>\n",
       "    <tr style=\"text-align: right;\">\n",
       "      <th></th>\n",
       "      <th>movie</th>\n",
       "      <th>title</th>\n",
       "    </tr>\n",
       "  </thead>\n",
       "  <tbody>\n",
       "    <tr>\n",
       "      <th>0</th>\n",
       "      <td>1</td>\n",
       "      <td>Toy Story (1995)</td>\n",
       "    </tr>\n",
       "    <tr>\n",
       "      <th>1</th>\n",
       "      <td>2</td>\n",
       "      <td>GoldenEye (1995)</td>\n",
       "    </tr>\n",
       "    <tr>\n",
       "      <th>2</th>\n",
       "      <td>3</td>\n",
       "      <td>Four Rooms (1995)</td>\n",
       "    </tr>\n",
       "    <tr>\n",
       "      <th>3</th>\n",
       "      <td>4</td>\n",
       "      <td>Get Shorty (1995)</td>\n",
       "    </tr>\n",
       "    <tr>\n",
       "      <th>4</th>\n",
       "      <td>5</td>\n",
       "      <td>Copycat (1995)</td>\n",
       "    </tr>\n",
       "  </tbody>\n",
       "</table>\n",
       "</div>"
      ],
      "text/plain": [
       "   movie              title\n",
       "0      1   Toy Story (1995)\n",
       "1      2   GoldenEye (1995)\n",
       "2      3  Four Rooms (1995)\n",
       "3      4  Get Shorty (1995)\n",
       "4      5     Copycat (1995)"
      ]
     },
     "execution_count": 4,
     "metadata": {},
     "output_type": "execute_result"
    }
   ],
   "source": [
    "movies = pd.read_csv(path/'u.item', delimiter='|', encoding='latin-1',\n",
    "                    usecols=(0,1), names=('movie', 'title'), header=None)\n",
    "movies.head()"
   ]
  },
  {
   "cell_type": "code",
   "execution_count": 5,
   "id": "91033d66",
   "metadata": {
    "execution": {
     "iopub.execute_input": "2025-03-20T20:36:10.871311Z",
     "iopub.status.busy": "2025-03-20T20:36:10.870932Z",
     "iopub.status.idle": "2025-03-20T20:36:10.905167Z",
     "shell.execute_reply": "2025-03-20T20:36:10.904191Z"
    },
    "papermill": {
     "duration": 0.042201,
     "end_time": "2025-03-20T20:36:10.906904",
     "exception": false,
     "start_time": "2025-03-20T20:36:10.864703",
     "status": "completed"
    },
    "tags": []
   },
   "outputs": [
    {
     "data": {
      "text/html": [
       "<div>\n",
       "<style scoped>\n",
       "    .dataframe tbody tr th:only-of-type {\n",
       "        vertical-align: middle;\n",
       "    }\n",
       "\n",
       "    .dataframe tbody tr th {\n",
       "        vertical-align: top;\n",
       "    }\n",
       "\n",
       "    .dataframe thead th {\n",
       "        text-align: right;\n",
       "    }\n",
       "</style>\n",
       "<table border=\"1\" class=\"dataframe\">\n",
       "  <thead>\n",
       "    <tr style=\"text-align: right;\">\n",
       "      <th></th>\n",
       "      <th>user</th>\n",
       "      <th>movie</th>\n",
       "      <th>rating</th>\n",
       "      <th>timestamp</th>\n",
       "      <th>title</th>\n",
       "    </tr>\n",
       "  </thead>\n",
       "  <tbody>\n",
       "    <tr>\n",
       "      <th>0</th>\n",
       "      <td>196</td>\n",
       "      <td>242</td>\n",
       "      <td>3</td>\n",
       "      <td>881250949</td>\n",
       "      <td>Kolya (1996)</td>\n",
       "    </tr>\n",
       "    <tr>\n",
       "      <th>1</th>\n",
       "      <td>186</td>\n",
       "      <td>302</td>\n",
       "      <td>3</td>\n",
       "      <td>891717742</td>\n",
       "      <td>L.A. Confidential (1997)</td>\n",
       "    </tr>\n",
       "    <tr>\n",
       "      <th>2</th>\n",
       "      <td>22</td>\n",
       "      <td>377</td>\n",
       "      <td>1</td>\n",
       "      <td>878887116</td>\n",
       "      <td>Heavyweights (1994)</td>\n",
       "    </tr>\n",
       "    <tr>\n",
       "      <th>3</th>\n",
       "      <td>244</td>\n",
       "      <td>51</td>\n",
       "      <td>2</td>\n",
       "      <td>880606923</td>\n",
       "      <td>Legends of the Fall (1994)</td>\n",
       "    </tr>\n",
       "    <tr>\n",
       "      <th>4</th>\n",
       "      <td>166</td>\n",
       "      <td>346</td>\n",
       "      <td>1</td>\n",
       "      <td>886397596</td>\n",
       "      <td>Jackie Brown (1997)</td>\n",
       "    </tr>\n",
       "  </tbody>\n",
       "</table>\n",
       "</div>"
      ],
      "text/plain": [
       "   user  movie  rating  timestamp                       title\n",
       "0   196    242       3  881250949                Kolya (1996)\n",
       "1   186    302       3  891717742    L.A. Confidential (1997)\n",
       "2    22    377       1  878887116         Heavyweights (1994)\n",
       "3   244     51       2  880606923  Legends of the Fall (1994)\n",
       "4   166    346       1  886397596         Jackie Brown (1997)"
      ]
     },
     "execution_count": 5,
     "metadata": {},
     "output_type": "execute_result"
    }
   ],
   "source": [
    "ratings = ratings.merge(movies)\n",
    "ratings.head()"
   ]
  },
  {
   "cell_type": "code",
   "execution_count": 6,
   "id": "d2127200",
   "metadata": {
    "execution": {
     "iopub.execute_input": "2025-03-20T20:36:10.919774Z",
     "iopub.status.busy": "2025-03-20T20:36:10.919477Z",
     "iopub.status.idle": "2025-03-20T20:36:11.124221Z",
     "shell.execute_reply": "2025-03-20T20:36:11.123175Z"
    },
    "papermill": {
     "duration": 0.21287,
     "end_time": "2025-03-20T20:36:11.125873",
     "exception": false,
     "start_time": "2025-03-20T20:36:10.913003",
     "status": "completed"
    },
    "tags": []
   },
   "outputs": [
    {
     "data": {
      "text/html": [
       "<table border=\"1\" class=\"dataframe\">\n",
       "  <thead>\n",
       "    <tr style=\"text-align: right;\">\n",
       "      <th></th>\n",
       "      <th>user</th>\n",
       "      <th>title</th>\n",
       "      <th>rating</th>\n",
       "    </tr>\n",
       "  </thead>\n",
       "  <tbody>\n",
       "    <tr>\n",
       "      <th>0</th>\n",
       "      <td>782</td>\n",
       "      <td>Starship Troopers (1997)</td>\n",
       "      <td>2</td>\n",
       "    </tr>\n",
       "    <tr>\n",
       "      <th>1</th>\n",
       "      <td>943</td>\n",
       "      <td>Judge Dredd (1995)</td>\n",
       "      <td>3</td>\n",
       "    </tr>\n",
       "    <tr>\n",
       "      <th>2</th>\n",
       "      <td>758</td>\n",
       "      <td>Mission: Impossible (1996)</td>\n",
       "      <td>4</td>\n",
       "    </tr>\n",
       "    <tr>\n",
       "      <th>3</th>\n",
       "      <td>94</td>\n",
       "      <td>Farewell My Concubine (1993)</td>\n",
       "      <td>5</td>\n",
       "    </tr>\n",
       "    <tr>\n",
       "      <th>4</th>\n",
       "      <td>23</td>\n",
       "      <td>Psycho (1960)</td>\n",
       "      <td>4</td>\n",
       "    </tr>\n",
       "    <tr>\n",
       "      <th>5</th>\n",
       "      <td>296</td>\n",
       "      <td>Secrets &amp; Lies (1996)</td>\n",
       "      <td>5</td>\n",
       "    </tr>\n",
       "    <tr>\n",
       "      <th>6</th>\n",
       "      <td>940</td>\n",
       "      <td>American President, The (1995)</td>\n",
       "      <td>4</td>\n",
       "    </tr>\n",
       "    <tr>\n",
       "      <th>7</th>\n",
       "      <td>334</td>\n",
       "      <td>Star Trek VI: The Undiscovered Country (1991)</td>\n",
       "      <td>1</td>\n",
       "    </tr>\n",
       "    <tr>\n",
       "      <th>8</th>\n",
       "      <td>380</td>\n",
       "      <td>Braveheart (1995)</td>\n",
       "      <td>4</td>\n",
       "    </tr>\n",
       "    <tr>\n",
       "      <th>9</th>\n",
       "      <td>690</td>\n",
       "      <td>So I Married an Axe Murderer (1993)</td>\n",
       "      <td>1</td>\n",
       "    </tr>\n",
       "  </tbody>\n",
       "</table>"
      ],
      "text/plain": [
       "<IPython.core.display.HTML object>"
      ]
     },
     "metadata": {},
     "output_type": "display_data"
    }
   ],
   "source": [
    "dls = CollabDataLoaders.from_df(ratings, item_name='title', bs=64)\n",
    "dls.show_batch()"
   ]
  },
  {
   "cell_type": "code",
   "execution_count": 7,
   "id": "cf63d021",
   "metadata": {
    "execution": {
     "iopub.execute_input": "2025-03-20T20:36:11.139186Z",
     "iopub.status.busy": "2025-03-20T20:36:11.138822Z",
     "iopub.status.idle": "2025-03-20T20:36:11.145491Z",
     "shell.execute_reply": "2025-03-20T20:36:11.144595Z"
    },
    "papermill": {
     "duration": 0.014988,
     "end_time": "2025-03-20T20:36:11.147087",
     "exception": false,
     "start_time": "2025-03-20T20:36:11.132099",
     "status": "completed"
    },
    "tags": []
   },
   "outputs": [],
   "source": [
    "n_users = len(dls.classes['user'])\n",
    "n_movies = len(dls.classes['title'])\n",
    "n_factors = 5\n",
    "\n",
    "user_factors = torch.randn(n_users, n_factors)\n",
    "movie_factors = torch.randn(n_movies, n_factors)"
   ]
  },
  {
   "cell_type": "code",
   "execution_count": 8,
   "id": "2d9c83d5",
   "metadata": {
    "execution": {
     "iopub.execute_input": "2025-03-20T20:36:11.160314Z",
     "iopub.status.busy": "2025-03-20T20:36:11.159994Z",
     "iopub.status.idle": "2025-03-20T20:36:11.166241Z",
     "shell.execute_reply": "2025-03-20T20:36:11.165226Z"
    },
    "papermill": {
     "duration": 0.014542,
     "end_time": "2025-03-20T20:36:11.167849",
     "exception": false,
     "start_time": "2025-03-20T20:36:11.153307",
     "status": "completed"
    },
    "tags": []
   },
   "outputs": [],
   "source": [
    "class DotProductBias(Module):\n",
    "    def __init__(self, n_users, n_movies, n_factors, y_range=(0,5.5)):\n",
    "        self.user_factors = Embedding(n_users, n_factors)\n",
    "        self.user_bias = Embedding(n_users, 1)\n",
    "        self.movie_factors = Embedding(n_movies, n_factors)\n",
    "        self.movie_bias = Embedding(n_movies, 1)\n",
    "        self.y_range = y_range\n",
    "        \n",
    "    def forward(self, x):\n",
    "        users = self.user_factors(x[:,0])\n",
    "        movies = self.movie_factors(x[:,1])\n",
    "        res = (users * movies).sum(dim=1, keepdim=True)\n",
    "        res += self.user_bias(x[:,0]) + self.movie_bias(x[:,1])\n",
    "        return sigmoid_range(res, *self.y_range)"
   ]
  },
  {
   "cell_type": "code",
   "execution_count": 9,
   "id": "69a2f129",
   "metadata": {
    "execution": {
     "iopub.execute_input": "2025-03-20T20:36:11.181225Z",
     "iopub.status.busy": "2025-03-20T20:36:11.180850Z",
     "iopub.status.idle": "2025-03-20T20:36:53.441968Z",
     "shell.execute_reply": "2025-03-20T20:36:53.441064Z"
    },
    "papermill": {
     "duration": 42.269483,
     "end_time": "2025-03-20T20:36:53.443571",
     "exception": false,
     "start_time": "2025-03-20T20:36:11.174088",
     "status": "completed"
    },
    "tags": []
   },
   "outputs": [
    {
     "data": {
      "text/html": [
       "\n",
       "<style>\n",
       "    /* Turns off some styling */\n",
       "    progress {\n",
       "        /* gets rid of default border in Firefox and Opera. */\n",
       "        border: none;\n",
       "        /* Needs to be in here for Safari polyfill so background images work as expected. */\n",
       "        background-size: auto;\n",
       "    }\n",
       "    progress:not([value]), progress:not([value])::-webkit-progress-bar {\n",
       "        background: repeating-linear-gradient(45deg, #7e7e7e, #7e7e7e 10px, #5c5c5c 10px, #5c5c5c 20px);\n",
       "    }\n",
       "    .progress-bar-interrupted, .progress-bar-interrupted::-webkit-progress-bar {\n",
       "        background: #F44336;\n",
       "    }\n",
       "</style>\n"
      ],
      "text/plain": [
       "<IPython.core.display.HTML object>"
      ]
     },
     "metadata": {},
     "output_type": "display_data"
    },
    {
     "data": {
      "text/html": [
       "<table border=\"1\" class=\"dataframe\">\n",
       "  <thead>\n",
       "    <tr style=\"text-align: left;\">\n",
       "      <th>epoch</th>\n",
       "      <th>train_loss</th>\n",
       "      <th>valid_loss</th>\n",
       "      <th>time</th>\n",
       "    </tr>\n",
       "  </thead>\n",
       "  <tbody>\n",
       "    <tr>\n",
       "      <td>0</td>\n",
       "      <td>0.872628</td>\n",
       "      <td>0.935379</td>\n",
       "      <td>00:08</td>\n",
       "    </tr>\n",
       "    <tr>\n",
       "      <td>1</td>\n",
       "      <td>0.670101</td>\n",
       "      <td>0.886885</td>\n",
       "      <td>00:08</td>\n",
       "    </tr>\n",
       "    <tr>\n",
       "      <td>2</td>\n",
       "      <td>0.519834</td>\n",
       "      <td>0.864037</td>\n",
       "      <td>00:08</td>\n",
       "    </tr>\n",
       "    <tr>\n",
       "      <td>3</td>\n",
       "      <td>0.446007</td>\n",
       "      <td>0.850150</td>\n",
       "      <td>00:08</td>\n",
       "    </tr>\n",
       "    <tr>\n",
       "      <td>4</td>\n",
       "      <td>0.431486</td>\n",
       "      <td>0.846521</td>\n",
       "      <td>00:08</td>\n",
       "    </tr>\n",
       "  </tbody>\n",
       "</table>"
      ],
      "text/plain": [
       "<IPython.core.display.HTML object>"
      ]
     },
     "metadata": {},
     "output_type": "display_data"
    }
   ],
   "source": [
    "model = DotProductBias(n_users, n_movies, 50)\n",
    "learn = Learner(dls, model, loss_func=MSELossFlat())\n",
    "learn.fit_one_cycle(5, 5e-3, wd=0.1)"
   ]
  },
  {
   "cell_type": "code",
   "execution_count": 10,
   "id": "e1d94014",
   "metadata": {
    "execution": {
     "iopub.execute_input": "2025-03-20T20:36:53.457467Z",
     "iopub.status.busy": "2025-03-20T20:36:53.457121Z",
     "iopub.status.idle": "2025-03-20T20:36:53.474093Z",
     "shell.execute_reply": "2025-03-20T20:36:53.473188Z"
    },
    "papermill": {
     "duration": 0.02552,
     "end_time": "2025-03-20T20:36:53.475601",
     "exception": false,
     "start_time": "2025-03-20T20:36:53.450081",
     "status": "completed"
    },
    "tags": []
   },
   "outputs": [
    {
     "data": {
      "text/plain": [
       "(#1) [Parameter containing:\n",
       "tensor([[0.5247],\n",
       "        [0.3860],\n",
       "        [0.2885]], requires_grad=True)]"
      ]
     },
     "execution_count": 10,
     "metadata": {},
     "output_type": "execute_result"
    }
   ],
   "source": [
    "class T(Module):\n",
    "    def __init__(self): self.a = nn.Linear(1, 3, bias=False)\n",
    "        \n",
    "t = T()\n",
    "L(t.parameters())"
   ]
  },
  {
   "cell_type": "code",
   "execution_count": 11,
   "id": "0d0b0779",
   "metadata": {
    "execution": {
     "iopub.execute_input": "2025-03-20T20:36:53.489301Z",
     "iopub.status.busy": "2025-03-20T20:36:53.488972Z",
     "iopub.status.idle": "2025-03-20T20:36:53.494292Z",
     "shell.execute_reply": "2025-03-20T20:36:53.493452Z"
    },
    "papermill": {
     "duration": 0.013895,
     "end_time": "2025-03-20T20:36:53.495732",
     "exception": false,
     "start_time": "2025-03-20T20:36:53.481837",
     "status": "completed"
    },
    "tags": []
   },
   "outputs": [
    {
     "data": {
      "text/plain": [
       "torch.nn.parameter.Parameter"
      ]
     },
     "execution_count": 11,
     "metadata": {},
     "output_type": "execute_result"
    }
   ],
   "source": [
    "type(t.a.weight)"
   ]
  },
  {
   "cell_type": "code",
   "execution_count": 12,
   "id": "24d55d5a",
   "metadata": {
    "execution": {
     "iopub.execute_input": "2025-03-20T20:36:53.510227Z",
     "iopub.status.busy": "2025-03-20T20:36:53.509866Z",
     "iopub.status.idle": "2025-03-20T20:36:53.513737Z",
     "shell.execute_reply": "2025-03-20T20:36:53.512979Z"
    },
    "papermill": {
     "duration": 0.012974,
     "end_time": "2025-03-20T20:36:53.515150",
     "exception": false,
     "start_time": "2025-03-20T20:36:53.502176",
     "status": "completed"
    },
    "tags": []
   },
   "outputs": [],
   "source": [
    "def create_params(size):\n",
    "    return nn.Parameter(torch.zeros(*size).normal_(0, 0.1))"
   ]
  },
  {
   "cell_type": "code",
   "execution_count": 13,
   "id": "12fdeffe",
   "metadata": {
    "execution": {
     "iopub.execute_input": "2025-03-20T20:36:53.529335Z",
     "iopub.status.busy": "2025-03-20T20:36:53.528981Z",
     "iopub.status.idle": "2025-03-20T20:36:53.535330Z",
     "shell.execute_reply": "2025-03-20T20:36:53.534377Z"
    },
    "papermill": {
     "duration": 0.015205,
     "end_time": "2025-03-20T20:36:53.536795",
     "exception": false,
     "start_time": "2025-03-20T20:36:53.521590",
     "status": "completed"
    },
    "tags": []
   },
   "outputs": [],
   "source": [
    "class DotProductBias(Module):\n",
    "    def __init__(self, n_users, n_movies, n_factors, y_range=(0,5.5)):\n",
    "        self.user_factors = create_params([n_users, n_factors])\n",
    "        self.user_bias = create_params([n_users])\n",
    "        self.movie_factors = create_params([n_movies, n_factors])\n",
    "        self.movie_bias = create_params([n_movies])\n",
    "        self.y_range = y_range\n",
    "\n",
    "    def forward(self, x):\n",
    "        users = self.user_factors[x[:,0]]\n",
    "        movies = self.movie_factors[x[:,1]]\n",
    "        res = (users*movies).sum(dim=1)\n",
    "        res += self.user_bias[x[:,0]] + self.movie_bias[x[:,1]]\n",
    "        return sigmoid_range(res, *self.y_range)"
   ]
  },
  {
   "cell_type": "code",
   "execution_count": 14,
   "id": "c9b67219",
   "metadata": {
    "execution": {
     "iopub.execute_input": "2025-03-20T20:36:53.550845Z",
     "iopub.status.busy": "2025-03-20T20:36:53.550540Z",
     "iopub.status.idle": "2025-03-20T20:37:35.479014Z",
     "shell.execute_reply": "2025-03-20T20:37:35.477910Z"
    },
    "papermill": {
     "duration": 41.937084,
     "end_time": "2025-03-20T20:37:35.480474",
     "exception": false,
     "start_time": "2025-03-20T20:36:53.543390",
     "status": "completed"
    },
    "tags": []
   },
   "outputs": [
    {
     "data": {
      "text/html": [
       "\n",
       "<style>\n",
       "    /* Turns off some styling */\n",
       "    progress {\n",
       "        /* gets rid of default border in Firefox and Opera. */\n",
       "        border: none;\n",
       "        /* Needs to be in here for Safari polyfill so background images work as expected. */\n",
       "        background-size: auto;\n",
       "    }\n",
       "    progress:not([value]), progress:not([value])::-webkit-progress-bar {\n",
       "        background: repeating-linear-gradient(45deg, #7e7e7e, #7e7e7e 10px, #5c5c5c 10px, #5c5c5c 20px);\n",
       "    }\n",
       "    .progress-bar-interrupted, .progress-bar-interrupted::-webkit-progress-bar {\n",
       "        background: #F44336;\n",
       "    }\n",
       "</style>\n"
      ],
      "text/plain": [
       "<IPython.core.display.HTML object>"
      ]
     },
     "metadata": {},
     "output_type": "display_data"
    },
    {
     "data": {
      "text/html": [
       "<table border=\"1\" class=\"dataframe\">\n",
       "  <thead>\n",
       "    <tr style=\"text-align: left;\">\n",
       "      <th>epoch</th>\n",
       "      <th>train_loss</th>\n",
       "      <th>valid_loss</th>\n",
       "      <th>time</th>\n",
       "    </tr>\n",
       "  </thead>\n",
       "  <tbody>\n",
       "    <tr>\n",
       "      <td>0</td>\n",
       "      <td>0.904541</td>\n",
       "      <td>0.993151</td>\n",
       "      <td>00:08</td>\n",
       "    </tr>\n",
       "    <tr>\n",
       "      <td>1</td>\n",
       "      <td>0.607290</td>\n",
       "      <td>0.903875</td>\n",
       "      <td>00:08</td>\n",
       "    </tr>\n",
       "    <tr>\n",
       "      <td>2</td>\n",
       "      <td>0.475742</td>\n",
       "      <td>0.885394</td>\n",
       "      <td>00:08</td>\n",
       "    </tr>\n",
       "    <tr>\n",
       "      <td>3</td>\n",
       "      <td>0.416250</td>\n",
       "      <td>0.878725</td>\n",
       "      <td>00:08</td>\n",
       "    </tr>\n",
       "    <tr>\n",
       "      <td>4</td>\n",
       "      <td>0.396219</td>\n",
       "      <td>0.874514</td>\n",
       "      <td>00:08</td>\n",
       "    </tr>\n",
       "  </tbody>\n",
       "</table>"
      ],
      "text/plain": [
       "<IPython.core.display.HTML object>"
      ]
     },
     "metadata": {},
     "output_type": "display_data"
    }
   ],
   "source": [
    "model = DotProductBias(n_users, n_movies, 50)\n",
    "learn = Learner(dls, model, loss_func=MSELossFlat())\n",
    "learn.fit_one_cycle(5, 5e-3, wd=0.1)"
   ]
  },
  {
   "cell_type": "code",
   "execution_count": 15,
   "id": "ea9592ee",
   "metadata": {
    "execution": {
     "iopub.execute_input": "2025-03-20T20:37:35.494977Z",
     "iopub.status.busy": "2025-03-20T20:37:35.494625Z",
     "iopub.status.idle": "2025-03-20T20:37:35.507990Z",
     "shell.execute_reply": "2025-03-20T20:37:35.507028Z"
    },
    "papermill": {
     "duration": 0.022288,
     "end_time": "2025-03-20T20:37:35.509690",
     "exception": false,
     "start_time": "2025-03-20T20:37:35.487402",
     "status": "completed"
    },
    "tags": []
   },
   "outputs": [
    {
     "data": {
      "text/plain": [
       "['L.A. Confidential (1997)',\n",
       " 'Good Will Hunting (1997)',\n",
       " \"Schindler's List (1993)\",\n",
       " 'Titanic (1997)',\n",
       " 'Shawshank Redemption, The (1994)']"
      ]
     },
     "execution_count": 15,
     "metadata": {},
     "output_type": "execute_result"
    }
   ],
   "source": [
    "movie_bias = learn.model.movie_bias.squeeze()\n",
    "idxs = movie_bias.argsort(descending=True)[:5]\n",
    "[dls.classes['title'][i] for i in idxs]"
   ]
  },
  {
   "cell_type": "code",
   "execution_count": 16,
   "id": "d283924d",
   "metadata": {
    "execution": {
     "iopub.execute_input": "2025-03-20T20:37:35.524579Z",
     "iopub.status.busy": "2025-03-20T20:37:35.524268Z",
     "iopub.status.idle": "2025-03-20T20:37:36.294246Z",
     "shell.execute_reply": "2025-03-20T20:37:36.293337Z"
    },
    "papermill": {
     "duration": 0.782407,
     "end_time": "2025-03-20T20:37:36.298927",
     "exception": false,
     "start_time": "2025-03-20T20:37:35.516520",
     "status": "completed"
    },
    "tags": []
   },
   "outputs": [
    {
     "data": {
      "image/png": "[encoded data removed]",
      "text/plain": [
       "<Figure size 1200x1200 with 1 Axes>"
      ]
     },
     "metadata": {},
     "output_type": "display_data"
    }
   ],
   "source": [
    "g = ratings.groupby('title')['rating'].count()\n",
    "top_movies = g.sort_values(ascending=False).index.values[:1000]\n",
    "top_idxs = tensor([learn.dls.classes['title'].o2i[m] for m in top_movies])\n",
    "movie_w = learn.model.movie_factors[top_idxs].cpu().detach()\n",
    "movie_pca = movie_w.pca(3)\n",
    "fac0,fac1,fac2 = movie_pca.t()\n",
    "idxs = list(range(50))\n",
    "X = fac0[idxs]\n",
    "Y = fac2[idxs]\n",
    "plt.figure(figsize=(12,12))\n",
    "plt.scatter(X, Y)\n",
    "for i, x, y in zip(top_movies[idxs], X, Y):\n",
    "    plt.text(x,y,i, color=np.random.rand(3)*0.7, fontsize=11)\n",
    "plt.show()"
   ]
  },
  {
   "cell_type": "code",
   "execution_count": 17,
   "id": "ce2b56da",
   "metadata": {
    "execution": {
     "iopub.execute_input": "2025-03-20T20:37:36.322454Z",
     "iopub.status.busy": "2025-03-20T20:37:36.322119Z",
     "iopub.status.idle": "2025-03-20T20:37:36.330533Z",
     "shell.execute_reply": "2025-03-20T20:37:36.329745Z"
    },
    "papermill": {
     "duration": 0.021515,
     "end_time": "2025-03-20T20:37:36.331892",
     "exception": false,
     "start_time": "2025-03-20T20:37:36.310377",
     "status": "completed"
    },
    "tags": []
   },
   "outputs": [],
   "source": [
    "learn = collab_learner(dls, n_factors=50, y_range=(0, 5.5))"
   ]
  },
  {
   "cell_type": "code",
   "execution_count": 18,
   "id": "01441cdf",
   "metadata": {
    "execution": {
     "iopub.execute_input": "2025-03-20T20:37:36.354142Z",
     "iopub.status.busy": "2025-03-20T20:37:36.353818Z",
     "iopub.status.idle": "2025-03-20T20:38:19.037644Z",
     "shell.execute_reply": "2025-03-20T20:38:19.036741Z"
    },
    "papermill": {
     "duration": 42.696701,
     "end_time": "2025-03-20T20:38:19.039247",
     "exception": false,
     "start_time": "2025-03-20T20:37:36.342546",
     "status": "completed"
    },
    "tags": []
   },
   "outputs": [
    {
     "data": {
      "text/html": [
       "\n",
       "<style>\n",
       "    /* Turns off some styling */\n",
       "    progress {\n",
       "        /* gets rid of default border in Firefox and Opera. */\n",
       "        border: none;\n",
       "        /* Needs to be in here for Safari polyfill so background images work as expected. */\n",
       "        background-size: auto;\n",
       "    }\n",
       "    progress:not([value]), progress:not([value])::-webkit-progress-bar {\n",
       "        background: repeating-linear-gradient(45deg, #7e7e7e, #7e7e7e 10px, #5c5c5c 10px, #5c5c5c 20px);\n",
       "    }\n",
       "    .progress-bar-interrupted, .progress-bar-interrupted::-webkit-progress-bar {\n",
       "        background: #F44336;\n",
       "    }\n",
       "</style>\n"
      ],
      "text/plain": [
       "<IPython.core.display.HTML object>"
      ]
     },
     "metadata": {},
     "output_type": "display_data"
    },
    {
     "data": {
      "text/html": [
       "<table border=\"1\" class=\"dataframe\">\n",
       "  <thead>\n",
       "    <tr style=\"text-align: left;\">\n",
       "      <th>epoch</th>\n",
       "      <th>train_loss</th>\n",
       "      <th>valid_loss</th>\n",
       "      <th>time</th>\n",
       "    </tr>\n",
       "  </thead>\n",
       "  <tbody>\n",
       "    <tr>\n",
       "      <td>0</td>\n",
       "      <td>0.928763</td>\n",
       "      <td>0.952806</td>\n",
       "      <td>00:08</td>\n",
       "    </tr>\n",
       "    <tr>\n",
       "      <td>1</td>\n",
       "      <td>0.673112</td>\n",
       "      <td>0.887953</td>\n",
       "      <td>00:08</td>\n",
       "    </tr>\n",
       "    <tr>\n",
       "      <td>2</td>\n",
       "      <td>0.507904</td>\n",
       "      <td>0.866045</td>\n",
       "      <td>00:08</td>\n",
       "    </tr>\n",
       "    <tr>\n",
       "      <td>3</td>\n",
       "      <td>0.463000</td>\n",
       "      <td>0.857128</td>\n",
       "      <td>00:08</td>\n",
       "    </tr>\n",
       "    <tr>\n",
       "      <td>4</td>\n",
       "      <td>0.442091</td>\n",
       "      <td>0.852286</td>\n",
       "      <td>00:08</td>\n",
       "    </tr>\n",
       "  </tbody>\n",
       "</table>"
      ],
      "text/plain": [
       "<IPython.core.display.HTML object>"
      ]
     },
     "metadata": {},
     "output_type": "display_data"
    }
   ],
   "source": [
    "learn.fit_one_cycle(5, 5e-3, wd=0.1)"
   ]
  },
  {
   "cell_type": "code",
   "execution_count": 19,
   "id": "3b094e7f",
   "metadata": {
    "execution": {
     "iopub.execute_input": "2025-03-20T20:38:19.062865Z",
     "iopub.status.busy": "2025-03-20T20:38:19.062541Z",
     "iopub.status.idle": "2025-03-20T20:38:19.068232Z",
     "shell.execute_reply": "2025-03-20T20:38:19.067368Z"
    },
    "papermill": {
     "duration": 0.019121,
     "end_time": "2025-03-20T20:38:19.069843",
     "exception": false,
     "start_time": "2025-03-20T20:38:19.050722",
     "status": "completed"
    },
    "tags": []
   },
   "outputs": [
    {
     "data": {
      "text/plain": [
       "EmbeddingDotBias(\n",
       "  (u_weight): Embedding(944, 50)\n",
       "  (i_weight): Embedding(1665, 50)\n",
       "  (u_bias): Embedding(944, 1)\n",
       "  (i_bias): Embedding(1665, 1)\n",
       ")"
      ]
     },
     "execution_count": 19,
     "metadata": {},
     "output_type": "execute_result"
    }
   ],
   "source": [
    "learn.model"
   ]
  },
  {
   "cell_type": "code",
   "execution_count": 20,
   "id": "cd0ccaea",
   "metadata": {
    "execution": {
     "iopub.execute_input": "2025-03-20T20:38:19.093070Z",
     "iopub.status.busy": "2025-03-20T20:38:19.092729Z",
     "iopub.status.idle": "2025-03-20T20:38:19.098957Z",
     "shell.execute_reply": "2025-03-20T20:38:19.098170Z"
    },
    "papermill": {
     "duration": 0.019234,
     "end_time": "2025-03-20T20:38:19.100389",
     "exception": false,
     "start_time": "2025-03-20T20:38:19.081155",
     "status": "completed"
    },
    "tags": []
   },
   "outputs": [
    {
     "data": {
      "text/plain": [
       "['Showgirls (1995)',\n",
       " 'Children of the Corn: The Gathering (1996)',\n",
       " 'Grease 2 (1982)',\n",
       " 'Cable Guy, The (1996)',\n",
       " 'Robocop 3 (1993)']"
      ]
     },
     "execution_count": 20,
     "metadata": {},
     "output_type": "execute_result"
    }
   ],
   "source": [
    "movie_bias = learn.model.i_bias.weight.squeeze()\n",
    "idxs = movie_bias.argsort(descending=False)[:5]\n",
    "[dls.classes['title'][i] for i in idxs]"
   ]
  },
  {
   "cell_type": "code",
   "execution_count": 21,
   "id": "661f5f98",
   "metadata": {
    "execution": {
     "iopub.execute_input": "2025-03-20T20:38:19.123909Z",
     "iopub.status.busy": "2025-03-20T20:38:19.123589Z",
     "iopub.status.idle": "2025-03-20T20:38:19.134597Z",
     "shell.execute_reply": "2025-03-20T20:38:19.133615Z"
    },
    "papermill": {
     "duration": 0.024511,
     "end_time": "2025-03-20T20:38:19.136214",
     "exception": false,
     "start_time": "2025-03-20T20:38:19.111703",
     "status": "completed"
    },
    "tags": []
   },
   "outputs": [
    {
     "data": {
      "text/plain": [
       "'Mad City (1997)'"
      ]
     },
     "execution_count": 21,
     "metadata": {},
     "output_type": "execute_result"
    }
   ],
   "source": [
    "movie_factors = learn.model.i_weight.weight\n",
    "idx = dls.classes['title'].o2i['Footloose (1984)']\n",
    "distances = nn.CosineSimilarity(dim=1)(movie_factors, movie_factors[idx][None])\n",
    "idx = distances.argsort(descending=True)[1]\n",
    "dls.classes['title'][idx]"
   ]
  },
  {
   "cell_type": "code",
   "execution_count": 22,
   "id": "ef8265a7",
   "metadata": {
    "execution": {
     "iopub.execute_input": "2025-03-20T20:38:19.160122Z",
     "iopub.status.busy": "2025-03-20T20:38:19.159766Z",
     "iopub.status.idle": "2025-03-20T20:38:19.165468Z",
     "shell.execute_reply": "2025-03-20T20:38:19.164478Z"
    },
    "papermill": {
     "duration": 0.019155,
     "end_time": "2025-03-20T20:38:19.166907",
     "exception": false,
     "start_time": "2025-03-20T20:38:19.147752",
     "status": "completed"
    },
    "tags": []
   },
   "outputs": [
    {
     "data": {
      "text/plain": [
       "[(944, 74), (1665, 102)]"
      ]
     },
     "execution_count": 22,
     "metadata": {},
     "output_type": "execute_result"
    }
   ],
   "source": [
    "embs = get_emb_sz(dls)\n",
    "embs"
   ]
  },
  {
   "cell_type": "code",
   "execution_count": 23,
   "id": "3c0b6465",
   "metadata": {
    "execution": {
     "iopub.execute_input": "2025-03-20T20:38:19.190903Z",
     "iopub.status.busy": "2025-03-20T20:38:19.190599Z",
     "iopub.status.idle": "2025-03-20T20:38:19.196296Z",
     "shell.execute_reply": "2025-03-20T20:38:19.195466Z"
    },
    "papermill": {
     "duration": 0.019112,
     "end_time": "2025-03-20T20:38:19.197752",
     "exception": false,
     "start_time": "2025-03-20T20:38:19.178640",
     "status": "completed"
    },
    "tags": []
   },
   "outputs": [],
   "source": [
    "class CollabNN(Module):\n",
    "    def __init__(self, user_sz, item_sz, y_range=(0,5.5), n_act=100):\n",
    "        self.user_factors = Embedding(*user_sz)\n",
    "        self.item_factors = Embedding(*item_sz)\n",
    "        self.layers = nn.Sequential(\n",
    "            nn.Linear(user_sz[1]+item_sz[1], n_act),\n",
    "            nn.ReLU(),\n",
    "            nn.Linear(n_act, 1))\n",
    "        self.y_range = y_range\n",
    "\n",
    "    def forward(self, x):\n",
    "        embs = self.user_factors(x[:,0]),self.item_factors(x[:,1])\n",
    "        x = self.layers(torch.cat(embs, dim=1))\n",
    "        return sigmoid_range(x, *self.y_range)\n",
    "        "
   ]
  },
  {
   "cell_type": "code",
   "execution_count": 24,
   "id": "9ff9fb67",
   "metadata": {
    "execution": {
     "iopub.execute_input": "2025-03-20T20:38:19.221659Z",
     "iopub.status.busy": "2025-03-20T20:38:19.221341Z",
     "iopub.status.idle": "2025-03-20T20:38:19.230561Z",
     "shell.execute_reply": "2025-03-20T20:38:19.229694Z"
    },
    "papermill": {
     "duration": 0.023056,
     "end_time": "2025-03-20T20:38:19.232115",
     "exception": false,
     "start_time": "2025-03-20T20:38:19.209059",
     "status": "completed"
    },
    "tags": []
   },
   "outputs": [],
   "source": [
    "model = CollabNN(*embs)"
   ]
  },
  {
   "cell_type": "code",
   "execution_count": 25,
   "id": "925c0a9e",
   "metadata": {
    "execution": {
     "iopub.execute_input": "2025-03-20T20:38:19.256226Z",
     "iopub.status.busy": "2025-03-20T20:38:19.255892Z",
     "iopub.status.idle": "2025-03-20T20:39:08.580929Z",
     "shell.execute_reply": "2025-03-20T20:39:08.580063Z"
    },
    "papermill": {
     "duration": 49.338977,
     "end_time": "2025-03-20T20:39:08.582552",
     "exception": false,
     "start_time": "2025-03-20T20:38:19.243575",
     "status": "completed"
    },
    "tags": []
   },
   "outputs": [
    {
     "data": {
      "text/html": [
       "\n",
       "<style>\n",
       "    /* Turns off some styling */\n",
       "    progress {\n",
       "        /* gets rid of default border in Firefox and Opera. */\n",
       "        border: none;\n",
       "        /* Needs to be in here for Safari polyfill so background images work as expected. */\n",
       "        background-size: auto;\n",
       "    }\n",
       "    progress:not([value]), progress:not([value])::-webkit-progress-bar {\n",
       "        background: repeating-linear-gradient(45deg, #7e7e7e, #7e7e7e 10px, #5c5c5c 10px, #5c5c5c 20px);\n",
       "    }\n",
       "    .progress-bar-interrupted, .progress-bar-interrupted::-webkit-progress-bar {\n",
       "        background: #F44336;\n",
       "    }\n",
       "</style>\n"
      ],
      "text/plain": [
       "<IPython.core.display.HTML object>"
      ]
     },
     "metadata": {},
     "output_type": "display_data"
    },
    {
     "data": {
      "text/html": [
       "<table border=\"1\" class=\"dataframe\">\n",
       "  <thead>\n",
       "    <tr style=\"text-align: left;\">\n",
       "      <th>epoch</th>\n",
       "      <th>train_loss</th>\n",
       "      <th>valid_loss</th>\n",
       "      <th>time</th>\n",
       "    </tr>\n",
       "  </thead>\n",
       "  <tbody>\n",
       "    <tr>\n",
       "      <td>0</td>\n",
       "      <td>0.927462</td>\n",
       "      <td>0.947954</td>\n",
       "      <td>00:09</td>\n",
       "    </tr>\n",
       "    <tr>\n",
       "      <td>1</td>\n",
       "      <td>0.873854</td>\n",
       "      <td>0.905869</td>\n",
       "      <td>00:09</td>\n",
       "    </tr>\n",
       "    <tr>\n",
       "      <td>2</td>\n",
       "      <td>0.818500</td>\n",
       "      <td>0.886354</td>\n",
       "      <td>00:10</td>\n",
       "    </tr>\n",
       "    <tr>\n",
       "      <td>3</td>\n",
       "      <td>0.786841</td>\n",
       "      <td>0.864234</td>\n",
       "      <td>00:10</td>\n",
       "    </tr>\n",
       "    <tr>\n",
       "      <td>4</td>\n",
       "      <td>0.738517</td>\n",
       "      <td>0.863015</td>\n",
       "      <td>00:09</td>\n",
       "    </tr>\n",
       "  </tbody>\n",
       "</table>"
      ],
      "text/plain": [
       "<IPython.core.display.HTML object>"
      ]
     },
     "metadata": {},
     "output_type": "display_data"
    }
   ],
   "source": [
    "learn = Learner(dls, model, loss_func=MSELossFlat())\n",
    "learn.fit_one_cycle(5, 5e-3, wd=0.01)"
   ]
  }
 ],
 "metadata": {
  "kaggle": {
   "accelerator": "none",
   "dataSources": [],
   "dockerImageVersionId": 30918,
   "isGpuEnabled": false,
   "isInternetEnabled": true,
   "language": "python",
   "sourceType": "notebook"
  },
  "kernelspec": {
   "display_name": "Python 3",
   "language": "python",
   "name": "python3"
  },
  "language_info": {
   "codemirror_mode": {
    "name": "ipython",
    "version": 3
   },
   "file_extension": ".py",
   "mimetype": "text/x-python",
   "name": "python",
   "nbconvert_exporter": "python",
   "pygments_lexer": "ipython3",
   "version": "3.10.12"
  },
  "papermill": {
   "default_parameters": {},
   "duration": 190.655433,
   "end_time": "2025-03-20T20:39:11.037509",
   "environment_variables": {},
   "exception": null,
   "input_path": "__notebook__.ipynb",
   "output_path": "__notebook__.ipynb",
   "parameters": {},
   "start_time": "2025-03-20T20:36:00.382076",
   "version": "2.6.0"
  }
 },
 "nbformat": 4,
 "nbformat_minor": 5
}
