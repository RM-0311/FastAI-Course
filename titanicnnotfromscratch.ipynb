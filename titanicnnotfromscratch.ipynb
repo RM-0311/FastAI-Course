{
 "cells": [
  {
   "cell_type": "code",
   "execution_count": 1,
   "id": "28616d64",
   "metadata": {
    "_cell_guid": "b1076dfc-b9ad-4769-8c92-a6c4dae69d19",
    "_uuid": "8f2839f25d086af736a60e9eeb907d3b93b6e0e5",
    "execution": {
     "iopub.execute_input": "2025-03-08T19:24:36.112939Z",
     "iopub.status.busy": "2025-03-08T19:24:36.112630Z",
     "iopub.status.idle": "2025-03-08T19:24:41.990854Z",
     "shell.execute_reply": "2025-03-08T19:24:41.989311Z"
    },
    "papermill": {
     "duration": 5.885955,
     "end_time": "2025-03-08T19:24:41.993104",
     "exception": false,
     "start_time": "2025-03-08T19:24:36.107149",
     "status": "completed"
    },
    "tags": []
   },
   "outputs": [],
   "source": [
    "from pathlib import Path\n",
    "import os\n",
    "\n",
    "iskaggle = os.environ.get('KAGGLE_KERNEL_RUN_TYPE', '')\n",
    "if iskaggle:\n",
    "    path = Path('../input/titanic')\n",
    "    !pip install -Uqq fastai\n",
    "else:\n",
    "    import zipfile,kaggle\n",
    "    path = Path('titanic')\n",
    "    if not path.exists():\n",
    "        kaggle.api.competition_download_cli(str(path))\n",
    "        zipfile.ZipFile(f'{path}.zip').extractall(path)"
   ]
  },
  {
   "cell_type": "code",
   "execution_count": 2,
   "id": "de796a1b",
   "metadata": {
    "execution": {
     "iopub.execute_input": "2025-03-08T19:24:42.001603Z",
     "iopub.status.busy": "2025-03-08T19:24:42.001201Z",
     "iopub.status.idle": "2025-03-08T19:24:48.855862Z",
     "shell.execute_reply": "2025-03-08T19:24:48.854742Z"
    },
    "papermill": {
     "duration": 6.860616,
     "end_time": "2025-03-08T19:24:48.857656",
     "exception": false,
     "start_time": "2025-03-08T19:24:41.997040",
     "status": "completed"
    },
    "tags": []
   },
   "outputs": [],
   "source": [
    "from fastai.tabular.all import * \n",
    "\n",
    "pd.options.display.float_format = '{:.2f}'.format\n",
    "set_seed(42)"
   ]
  },
  {
   "cell_type": "code",
   "execution_count": 3,
   "id": "27433def",
   "metadata": {
    "execution": {
     "iopub.execute_input": "2025-03-08T19:24:48.865657Z",
     "iopub.status.busy": "2025-03-08T19:24:48.865138Z",
     "iopub.status.idle": "2025-03-08T19:24:48.885280Z",
     "shell.execute_reply": "2025-03-08T19:24:48.884479Z"
    },
    "papermill": {
     "duration": 0.025809,
     "end_time": "2025-03-08T19:24:48.886954",
     "exception": false,
     "start_time": "2025-03-08T19:24:48.861145",
     "status": "completed"
    },
    "tags": []
   },
   "outputs": [],
   "source": [
    "df = pd.read_csv(path/'train.csv')"
   ]
  },
  {
   "cell_type": "code",
   "execution_count": 4,
   "id": "9a8a5e03",
   "metadata": {
    "execution": {
     "iopub.execute_input": "2025-03-08T19:24:48.894865Z",
     "iopub.status.busy": "2025-03-08T19:24:48.894546Z",
     "iopub.status.idle": "2025-03-08T19:24:48.923342Z",
     "shell.execute_reply": "2025-03-08T19:24:48.922596Z"
    },
    "papermill": {
     "duration": 0.034598,
     "end_time": "2025-03-08T19:24:48.925094",
     "exception": false,
     "start_time": "2025-03-08T19:24:48.890496",
     "status": "completed"
    },
    "tags": []
   },
   "outputs": [],
   "source": [
    "def add_features(df):\n",
    "    df['LogFare'] = np.log1p(df['Fare'])\n",
    "    df['Deck'] = df.Cabin.str[0].map(dict(A=\"ABC\", B=\"ABC\", C=\"ABC\", D=\"DE\", E=\"DE\", F=\"FG\", G=\"FG\"))\n",
    "    df['Family'] = df.SibSp+df.Parch\n",
    "    df['Alone'] = df.Family==0\n",
    "    df['TicketFreq'] = df.groupby('Ticket')['Ticket'].transform('count')\n",
    "    df['Title'] = df.Name.str.split(', ', expand=True)[1].str.split('.', expand=True)[0]\n",
    "    df['Title'] = df.Title.map(dict(Mr=\"Mr\",Miss=\"Miss\",Mrs=\"Mrs\",Master=\"Master\"))\n",
    "\n",
    "add_features(df)"
   ]
  },
  {
   "cell_type": "code",
   "execution_count": 5,
   "id": "32786dcb",
   "metadata": {
    "execution": {
     "iopub.execute_input": "2025-03-08T19:24:48.932790Z",
     "iopub.status.busy": "2025-03-08T19:24:48.932475Z",
     "iopub.status.idle": "2025-03-08T19:24:48.964773Z",
     "shell.execute_reply": "2025-03-08T19:24:48.963488Z"
    },
    "papermill": {
     "duration": 0.038399,
     "end_time": "2025-03-08T19:24:48.966782",
     "exception": false,
     "start_time": "2025-03-08T19:24:48.928383",
     "status": "completed"
    },
    "tags": []
   },
   "outputs": [],
   "source": [
    "splits = RandomSplitter(seed=42)(df)"
   ]
  },
  {
   "cell_type": "code",
   "execution_count": 6,
   "id": "8cf9725f",
   "metadata": {
    "execution": {
     "iopub.execute_input": "2025-03-08T19:24:48.975748Z",
     "iopub.status.busy": "2025-03-08T19:24:48.975366Z",
     "iopub.status.idle": "2025-03-08T19:24:49.052560Z",
     "shell.execute_reply": "2025-03-08T19:24:49.051500Z"
    },
    "papermill": {
     "duration": 0.083715,
     "end_time": "2025-03-08T19:24:49.054637",
     "exception": false,
     "start_time": "2025-03-08T19:24:48.970922",
     "status": "completed"
    },
    "tags": []
   },
   "outputs": [
    {
     "name": "stderr",
     "output_type": "stream",
     "text": [
      "/usr/local/lib/python3.10/dist-packages/fastai/tabular/core.py:314: FutureWarning: A value is trying to be set on a copy of a DataFrame or Series through chained assignment using an inplace method.\n",
      "The behavior will change in pandas 3.0. This inplace method will never work because the intermediate object on which we are setting values always behaves as a copy.\n",
      "\n",
      "For example, when doing 'df[col].method(value, inplace=True)', try using 'df.method({col: value}, inplace=True)' or df[col] = df[col].method(value) instead, to perform the operation inplace on the original object.\n",
      "\n",
      "\n",
      "  to[n].fillna(self.na_dict[n], inplace=True)\n"
     ]
    }
   ],
   "source": [
    "dls = TabularPandas(\n",
    "    df, splits=splits,\n",
    "    procs = [Categorify, FillMissing, Normalize],\n",
    "    cat_names=[\"Sex\", \"Pclass\", \"Embarked\", \"Deck\", \"Title\"],\n",
    "    cont_names=['Age', 'SibSp', 'Parch', 'LogFare', 'Alone', 'TicketFreq', 'Family'],\n",
    "    y_names=\"Survived\", y_block = CategoryBlock(),).dataloaders(path=\".\")"
   ]
  },
  {
   "cell_type": "code",
   "execution_count": 7,
   "id": "92602e6c",
   "metadata": {
    "execution": {
     "iopub.execute_input": "2025-03-08T19:24:49.062636Z",
     "iopub.status.busy": "2025-03-08T19:24:49.062266Z",
     "iopub.status.idle": "2025-03-08T19:24:49.097241Z",
     "shell.execute_reply": "2025-03-08T19:24:49.096325Z"
    },
    "papermill": {
     "duration": 0.040929,
     "end_time": "2025-03-08T19:24:49.099042",
     "exception": false,
     "start_time": "2025-03-08T19:24:49.058113",
     "status": "completed"
    },
    "tags": []
   },
   "outputs": [],
   "source": [
    "learn = tabular_learner(dls, metrics=accuracy, layers=[10,10])"
   ]
  },
  {
   "cell_type": "code",
   "execution_count": 8,
   "id": "8cea0963",
   "metadata": {
    "execution": {
     "iopub.execute_input": "2025-03-08T19:24:49.106873Z",
     "iopub.status.busy": "2025-03-08T19:24:49.106544Z",
     "iopub.status.idle": "2025-03-08T19:24:50.969188Z",
     "shell.execute_reply": "2025-03-08T19:24:50.968141Z"
    },
    "papermill": {
     "duration": 1.868259,
     "end_time": "2025-03-08T19:24:50.970831",
     "exception": false,
     "start_time": "2025-03-08T19:24:49.102572",
     "status": "completed"
    },
    "tags": []
   },
   "outputs": [
    {
     "data": {
      "text/html": [
       "\n",
       "<style>\n",
       "    /* Turns off some styling */\n",
       "    progress {\n",
       "        /* gets rid of default border in Firefox and Opera. */\n",
       "        border: none;\n",
       "        /* Needs to be in here for Safari polyfill so background images work as expected. */\n",
       "        background-size: auto;\n",
       "    }\n",
       "    progress:not([value]), progress:not([value])::-webkit-progress-bar {\n",
       "        background: repeating-linear-gradient(45deg, #7e7e7e, #7e7e7e 10px, #5c5c5c 10px, #5c5c5c 20px);\n",
       "    }\n",
       "    .progress-bar-interrupted, .progress-bar-interrupted::-webkit-progress-bar {\n",
       "        background: #F44336;\n",
       "    }\n",
       "</style>\n"
      ],
      "text/plain": [
       "<IPython.core.display.HTML object>"
      ]
     },
     "metadata": {},
     "output_type": "display_data"
    },
    {
     "data": {
      "text/html": [],
      "text/plain": [
       "<IPython.core.display.HTML object>"
      ]
     },
     "metadata": {},
     "output_type": "display_data"
    },
    {
     "name": "stderr",
     "output_type": "stream",
     "text": [
      "/usr/local/lib/python3.10/dist-packages/fastai/learner.py:53: FutureWarning: You are using `torch.load` with `weights_only=False` (the current default value), which uses the default pickle module implicitly. It is possible to construct malicious pickle data which will execute arbitrary code during unpickling (See https://github.com/pytorch/pytorch/blob/main/SECURITY.md#untrusted-models for more details). In a future release, the default value for `weights_only` will be flipped to `True`. This limits the functions that could be executed during unpickling. Arbitrary objects will no longer be allowed to be loaded via this mode unless they are explicitly allowlisted by the user via `torch.serialization.add_safe_globals`. We recommend you start setting `weights_only=True` for any use case where you don't have full control of the loaded file. Please open an issue on GitHub for any issues related to this experimental feature.\n",
      "  state = torch.load(file, map_location=device, **torch_load_kwargs)\n"
     ]
    },
    {
     "data": {
      "text/plain": [
       "SuggestedLRs(slide=0.04786301031708717, valley=0.009120108559727669)"
      ]
     },
     "execution_count": 8,
     "metadata": {},
     "output_type": "execute_result"
    },
    {
     "data": {
      "image/png": "[encoded data removed]",
      "text/plain": [
       "<Figure size 640x480 with 1 Axes>"
      ]
     },
     "metadata": {},
     "output_type": "display_data"
    }
   ],
   "source": [
    "learn.lr_find(suggest_funcs=(slide, valley))"
   ]
  },
  {
   "cell_type": "code",
   "execution_count": 9,
   "id": "575724ad",
   "metadata": {
    "execution": {
     "iopub.execute_input": "2025-03-08T19:24:50.980795Z",
     "iopub.status.busy": "2025-03-08T19:24:50.980453Z",
     "iopub.status.idle": "2025-03-08T19:24:53.192669Z",
     "shell.execute_reply": "2025-03-08T19:24:53.191834Z"
    },
    "papermill": {
     "duration": 2.21896,
     "end_time": "2025-03-08T19:24:53.194180",
     "exception": false,
     "start_time": "2025-03-08T19:24:50.975220",
     "status": "completed"
    },
    "tags": []
   },
   "outputs": [
    {
     "data": {
      "text/html": [
       "\n",
       "<style>\n",
       "    /* Turns off some styling */\n",
       "    progress {\n",
       "        /* gets rid of default border in Firefox and Opera. */\n",
       "        border: none;\n",
       "        /* Needs to be in here for Safari polyfill so background images work as expected. */\n",
       "        background-size: auto;\n",
       "    }\n",
       "    progress:not([value]), progress:not([value])::-webkit-progress-bar {\n",
       "        background: repeating-linear-gradient(45deg, #7e7e7e, #7e7e7e 10px, #5c5c5c 10px, #5c5c5c 20px);\n",
       "    }\n",
       "    .progress-bar-interrupted, .progress-bar-interrupted::-webkit-progress-bar {\n",
       "        background: #F44336;\n",
       "    }\n",
       "</style>\n"
      ],
      "text/plain": [
       "<IPython.core.display.HTML object>"
      ]
     },
     "metadata": {},
     "output_type": "display_data"
    },
    {
     "data": {
      "text/html": [
       "<table border=\"1\" class=\"dataframe\">\n",
       "  <thead>\n",
       "    <tr style=\"text-align: left;\">\n",
       "      <th>epoch</th>\n",
       "      <th>train_loss</th>\n",
       "      <th>valid_loss</th>\n",
       "      <th>accuracy</th>\n",
       "      <th>time</th>\n",
       "    </tr>\n",
       "  </thead>\n",
       "  <tbody>\n",
       "    <tr>\n",
       "      <td>0</td>\n",
       "      <td>0.547859</td>\n",
       "      <td>0.590293</td>\n",
       "      <td>0.640449</td>\n",
       "      <td>00:00</td>\n",
       "    </tr>\n",
       "    <tr>\n",
       "      <td>1</td>\n",
       "      <td>0.508080</td>\n",
       "      <td>0.481419</td>\n",
       "      <td>0.803371</td>\n",
       "      <td>00:00</td>\n",
       "    </tr>\n",
       "    <tr>\n",
       "      <td>2</td>\n",
       "      <td>0.469510</td>\n",
       "      <td>0.442730</td>\n",
       "      <td>0.808989</td>\n",
       "      <td>00:00</td>\n",
       "    </tr>\n",
       "    <tr>\n",
       "      <td>3</td>\n",
       "      <td>0.449098</td>\n",
       "      <td>0.450369</td>\n",
       "      <td>0.842697</td>\n",
       "      <td>00:00</td>\n",
       "    </tr>\n",
       "    <tr>\n",
       "      <td>4</td>\n",
       "      <td>0.417549</td>\n",
       "      <td>0.428384</td>\n",
       "      <td>0.814607</td>\n",
       "      <td>00:00</td>\n",
       "    </tr>\n",
       "    <tr>\n",
       "      <td>5</td>\n",
       "      <td>0.415517</td>\n",
       "      <td>0.440583</td>\n",
       "      <td>0.848315</td>\n",
       "      <td>00:00</td>\n",
       "    </tr>\n",
       "    <tr>\n",
       "      <td>6</td>\n",
       "      <td>0.401478</td>\n",
       "      <td>0.438075</td>\n",
       "      <td>0.820225</td>\n",
       "      <td>00:00</td>\n",
       "    </tr>\n",
       "    <tr>\n",
       "      <td>7</td>\n",
       "      <td>0.396373</td>\n",
       "      <td>0.491749</td>\n",
       "      <td>0.775281</td>\n",
       "      <td>00:00</td>\n",
       "    </tr>\n",
       "    <tr>\n",
       "      <td>8</td>\n",
       "      <td>0.401140</td>\n",
       "      <td>0.465741</td>\n",
       "      <td>0.820225</td>\n",
       "      <td>00:00</td>\n",
       "    </tr>\n",
       "    <tr>\n",
       "      <td>9</td>\n",
       "      <td>0.392440</td>\n",
       "      <td>0.433571</td>\n",
       "      <td>0.848315</td>\n",
       "      <td>00:00</td>\n",
       "    </tr>\n",
       "    <tr>\n",
       "      <td>10</td>\n",
       "      <td>0.402886</td>\n",
       "      <td>0.437712</td>\n",
       "      <td>0.803371</td>\n",
       "      <td>00:00</td>\n",
       "    </tr>\n",
       "    <tr>\n",
       "      <td>11</td>\n",
       "      <td>0.402093</td>\n",
       "      <td>0.449798</td>\n",
       "      <td>0.831461</td>\n",
       "      <td>00:00</td>\n",
       "    </tr>\n",
       "    <tr>\n",
       "      <td>12</td>\n",
       "      <td>0.392069</td>\n",
       "      <td>0.438658</td>\n",
       "      <td>0.797753</td>\n",
       "      <td>00:00</td>\n",
       "    </tr>\n",
       "    <tr>\n",
       "      <td>13</td>\n",
       "      <td>0.382583</td>\n",
       "      <td>0.430533</td>\n",
       "      <td>0.825843</td>\n",
       "      <td>00:00</td>\n",
       "    </tr>\n",
       "    <tr>\n",
       "      <td>14</td>\n",
       "      <td>0.391763</td>\n",
       "      <td>0.412192</td>\n",
       "      <td>0.797753</td>\n",
       "      <td>00:00</td>\n",
       "    </tr>\n",
       "    <tr>\n",
       "      <td>15</td>\n",
       "      <td>0.391309</td>\n",
       "      <td>0.420540</td>\n",
       "      <td>0.825843</td>\n",
       "      <td>00:00</td>\n",
       "    </tr>\n",
       "  </tbody>\n",
       "</table>"
      ],
      "text/plain": [
       "<IPython.core.display.HTML object>"
      ]
     },
     "metadata": {},
     "output_type": "display_data"
    }
   ],
   "source": [
    "learn.fit(16, lr=0.03)"
   ]
  },
  {
   "cell_type": "code",
   "execution_count": 10,
   "id": "9c23f7db",
   "metadata": {
    "execution": {
     "iopub.execute_input": "2025-03-08T19:24:53.205224Z",
     "iopub.status.busy": "2025-03-08T19:24:53.204914Z",
     "iopub.status.idle": "2025-03-08T19:24:53.223345Z",
     "shell.execute_reply": "2025-03-08T19:24:53.222336Z"
    },
    "papermill": {
     "duration": 0.025925,
     "end_time": "2025-03-08T19:24:53.225114",
     "exception": false,
     "start_time": "2025-03-08T19:24:53.199189",
     "status": "completed"
    },
    "tags": []
   },
   "outputs": [],
   "source": [
    "tst_df = pd.read_csv(path/'test.csv')\n",
    "tst_df['Fare'] = tst_df.Fare.fillna(0)\n",
    "add_features(tst_df)"
   ]
  },
  {
   "cell_type": "code",
   "execution_count": 11,
   "id": "32085746",
   "metadata": {
    "execution": {
     "iopub.execute_input": "2025-03-08T19:24:53.236249Z",
     "iopub.status.busy": "2025-03-08T19:24:53.235904Z",
     "iopub.status.idle": "2025-03-08T19:24:53.255859Z",
     "shell.execute_reply": "2025-03-08T19:24:53.254684Z"
    },
    "papermill": {
     "duration": 0.027031,
     "end_time": "2025-03-08T19:24:53.257333",
     "exception": false,
     "start_time": "2025-03-08T19:24:53.230302",
     "status": "completed"
    },
    "tags": []
   },
   "outputs": [
    {
     "name": "stderr",
     "output_type": "stream",
     "text": [
      "/usr/local/lib/python3.10/dist-packages/fastai/tabular/core.py:314: FutureWarning: A value is trying to be set on a copy of a DataFrame or Series through chained assignment using an inplace method.\n",
      "The behavior will change in pandas 3.0. This inplace method will never work because the intermediate object on which we are setting values always behaves as a copy.\n",
      "\n",
      "For example, when doing 'df[col].method(value, inplace=True)', try using 'df.method({col: value}, inplace=True)' or df[col] = df[col].method(value) instead, to perform the operation inplace on the original object.\n",
      "\n",
      "\n",
      "  to[n].fillna(self.na_dict[n], inplace=True)\n"
     ]
    }
   ],
   "source": [
    "tst_dl = learn.dls.test_dl(tst_df)"
   ]
  },
  {
   "cell_type": "code",
   "execution_count": 12,
   "id": "8ef3f2a7",
   "metadata": {
    "execution": {
     "iopub.execute_input": "2025-03-08T19:24:53.268358Z",
     "iopub.status.busy": "2025-03-08T19:24:53.268014Z",
     "iopub.status.idle": "2025-03-08T19:24:53.339126Z",
     "shell.execute_reply": "2025-03-08T19:24:53.337969Z"
    },
    "papermill": {
     "duration": 0.078639,
     "end_time": "2025-03-08T19:24:53.340885",
     "exception": false,
     "start_time": "2025-03-08T19:24:53.262246",
     "status": "completed"
    },
    "tags": []
   },
   "outputs": [
    {
     "data": {
      "text/html": [
       "\n",
       "<style>\n",
       "    /* Turns off some styling */\n",
       "    progress {\n",
       "        /* gets rid of default border in Firefox and Opera. */\n",
       "        border: none;\n",
       "        /* Needs to be in here for Safari polyfill so background images work as expected. */\n",
       "        background-size: auto;\n",
       "    }\n",
       "    progress:not([value]), progress:not([value])::-webkit-progress-bar {\n",
       "        background: repeating-linear-gradient(45deg, #7e7e7e, #7e7e7e 10px, #5c5c5c 10px, #5c5c5c 20px);\n",
       "    }\n",
       "    .progress-bar-interrupted, .progress-bar-interrupted::-webkit-progress-bar {\n",
       "        background: #F44336;\n",
       "    }\n",
       "</style>\n"
      ],
      "text/plain": [
       "<IPython.core.display.HTML object>"
      ]
     },
     "metadata": {},
     "output_type": "display_data"
    },
    {
     "data": {
      "text/html": [],
      "text/plain": [
       "<IPython.core.display.HTML object>"
      ]
     },
     "metadata": {},
     "output_type": "display_data"
    }
   ],
   "source": [
    "preds,_ = learn.get_preds(dl=tst_dl)"
   ]
  },
  {
   "cell_type": "code",
   "execution_count": 13,
   "id": "bf9b9507",
   "metadata": {
    "execution": {
     "iopub.execute_input": "2025-03-08T19:24:53.352343Z",
     "iopub.status.busy": "2025-03-08T19:24:53.352025Z",
     "iopub.status.idle": "2025-03-08T19:24:53.364915Z",
     "shell.execute_reply": "2025-03-08T19:24:53.364140Z"
    },
    "papermill": {
     "duration": 0.020293,
     "end_time": "2025-03-08T19:24:53.366461",
     "exception": false,
     "start_time": "2025-03-08T19:24:53.346168",
     "status": "completed"
    },
    "tags": []
   },
   "outputs": [],
   "source": [
    "tst_df['Survived'] = (preds[:,1]>0.5).int()\n",
    "sub_df = tst_df[['PassengerId', 'Survived']]\n",
    "sub_df.to_csv('sub.csv', index=False)"
   ]
  },
  {
   "cell_type": "code",
   "execution_count": 14,
   "id": "5baa7359",
   "metadata": {
    "execution": {
     "iopub.execute_input": "2025-03-08T19:24:53.377532Z",
     "iopub.status.busy": "2025-03-08T19:24:53.377177Z",
     "iopub.status.idle": "2025-03-08T19:24:53.512833Z",
     "shell.execute_reply": "2025-03-08T19:24:53.511583Z"
    },
    "papermill": {
     "duration": 0.143259,
     "end_time": "2025-03-08T19:24:53.514882",
     "exception": false,
     "start_time": "2025-03-08T19:24:53.371623",
     "status": "completed"
    },
    "tags": []
   },
   "outputs": [
    {
     "name": "stdout",
     "output_type": "stream",
     "text": [
      "PassengerId,Survived\r\n",
      "892,0\r\n",
      "893,0\r\n",
      "894,0\r\n",
      "895,0\r\n",
      "896,1\r\n",
      "897,0\r\n",
      "898,0\r\n",
      "899,0\r\n",
      "900,1\r\n"
     ]
    }
   ],
   "source": [
    "!head sub.csv"
   ]
  }
 ],
 "metadata": {
  "kaggle": {
   "accelerator": "none",
   "dataSources": [
    {
     "databundleVersionId": 26502,
     "sourceId": 3136,
     "sourceType": "competition"
    }
   ],
   "dockerImageVersionId": 30918,
   "isGpuEnabled": false,
   "isInternetEnabled": true,
   "language": "python",
   "sourceType": "notebook"
  },
  "kernelspec": {
   "display_name": "Python 3",
   "language": "python",
   "name": "python3"
  },
  "language_info": {
   "codemirror_mode": {
    "name": "ipython",
    "version": 3
   },
   "file_extension": ".py",
   "mimetype": "text/x-python",
   "name": "python",
   "nbconvert_exporter": "python",
   "pygments_lexer": "ipython3",
   "version": "3.10.12"
  },
  "papermill": {
   "default_parameters": {},
   "duration": 22.573125,
   "end_time": "2025-03-08T19:24:55.983695",
   "environment_variables": {},
   "exception": null,
   "input_path": "__notebook__.ipynb",
   "output_path": "__notebook__.ipynb",
   "parameters": {},
   "start_time": "2025-03-08T19:24:33.410570",
   "version": "2.6.0"
  }
 },
 "nbformat": 4,
 "nbformat_minor": 5
}
