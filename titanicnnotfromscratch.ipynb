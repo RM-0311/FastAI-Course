{
 "cells": [
  {
   "cell_type": "code",
   "execution_count": 1,
   "id": "db8bce3d",
   "metadata": {
    "_cell_guid": "b1076dfc-b9ad-4769-8c92-a6c4dae69d19",
    "_uuid": "8f2839f25d086af736a60e9eeb907d3b93b6e0e5",
    "execution": {
     "iopub.execute_input": "2025-03-08T18:45:28.094530Z",
     "iopub.status.busy": "2025-03-08T18:45:28.094196Z",
     "iopub.status.idle": "2025-03-08T18:45:35.343309Z",
     "shell.execute_reply": "2025-03-08T18:45:35.341940Z"
    },
    "papermill": {
     "duration": 7.25458,
     "end_time": "2025-03-08T18:45:35.345403",
     "exception": false,
     "start_time": "2025-03-08T18:45:28.090823",
     "status": "completed"
    },
    "tags": []
   },
   "outputs": [],
   "source": [
    "from pathlib import Path\n",
    "import os\n",
    "\n",
    "iskaggle = os.environ.get('KAGGLE_KERNEL_RUN_TYPE', '')\n",
    "if iskaggle:\n",
    "    path = Path('../input/titanic')\n",
    "    !pip install -Uqq fastai\n",
    "else:\n",
    "    import zipfile,kaggle\n",
    "    path = Path('titanic')\n",
    "    if not path.exists():\n",
    "        kaggle.api.competition_download_cli(str(path))\n",
    "        zipfile.ZipFile(f'{path}.zip').extractall(path)"
   ]
  },
  {
   "cell_type": "code",
   "execution_count": 2,
   "id": "aeb4319e",
   "metadata": {
    "execution": {
     "iopub.execute_input": "2025-03-08T18:45:35.350707Z",
     "iopub.status.busy": "2025-03-08T18:45:35.350377Z",
     "iopub.status.idle": "2025-03-08T18:45:44.771857Z",
     "shell.execute_reply": "2025-03-08T18:45:44.770903Z"
    },
    "papermill": {
     "duration": 9.426038,
     "end_time": "2025-03-08T18:45:44.773805",
     "exception": false,
     "start_time": "2025-03-08T18:45:35.347767",
     "status": "completed"
    },
    "tags": []
   },
   "outputs": [],
   "source": [
    "from fastai.tabular.all import * \n",
    "\n",
    "pd.options.display.float_format = '{:.2f}'.format\n",
    "set_seed(42)"
   ]
  },
  {
   "cell_type": "code",
   "execution_count": 3,
   "id": "0f990e96",
   "metadata": {
    "execution": {
     "iopub.execute_input": "2025-03-08T18:45:44.778908Z",
     "iopub.status.busy": "2025-03-08T18:45:44.778415Z",
     "iopub.status.idle": "2025-03-08T18:45:44.799762Z",
     "shell.execute_reply": "2025-03-08T18:45:44.798662Z"
    },
    "papermill": {
     "duration": 0.026034,
     "end_time": "2025-03-08T18:45:44.801800",
     "exception": false,
     "start_time": "2025-03-08T18:45:44.775766",
     "status": "completed"
    },
    "tags": []
   },
   "outputs": [],
   "source": [
    "df = pd.read_csv(path/'train.csv')"
   ]
  }
 ],
 "metadata": {
  "kaggle": {
   "accelerator": "none",
   "dataSources": [
    {
     "databundleVersionId": 26502,
     "sourceId": 3136,
     "sourceType": "competition"
    }
   ],
   "dockerImageVersionId": 30918,
   "isGpuEnabled": false,
   "isInternetEnabled": true,
   "language": "python",
   "sourceType": "notebook"
  },
  "kernelspec": {
   "display_name": "Python 3",
   "language": "python",
   "name": "python3"
  },
  "language_info": {
   "codemirror_mode": {
    "name": "ipython",
    "version": 3
   },
   "file_extension": ".py",
   "mimetype": "text/x-python",
   "name": "python",
   "nbconvert_exporter": "python",
   "pygments_lexer": "ipython3",
   "version": "3.10.12"
  },
  "papermill": {
   "default_parameters": {},
   "duration": 22.662764,
   "end_time": "2025-03-08T18:45:47.686207",
   "environment_variables": {},
   "exception": null,
   "input_path": "__notebook__.ipynb",
   "output_path": "__notebook__.ipynb",
   "parameters": {},
   "start_time": "2025-03-08T18:45:25.023443",
   "version": "2.6.0"
  }
 },
 "nbformat": 4,
 "nbformat_minor": 5
}
