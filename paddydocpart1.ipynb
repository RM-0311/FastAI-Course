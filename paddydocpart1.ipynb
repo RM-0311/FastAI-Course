{
 "cells": [
  {
   "cell_type": "code",
   "execution_count": 1,
   "id": "1751023b",
   "metadata": {
    "_cell_guid": "b1076dfc-b9ad-4769-8c92-a6c4dae69d19",
    "_uuid": "8f2839f25d086af736a60e9eeb907d3b93b6e0e5",
    "execution": {
     "iopub.execute_input": "2025-03-11T23:29:44.700974Z",
     "iopub.status.busy": "2025-03-11T23:29:44.700697Z",
     "iopub.status.idle": "2025-03-11T23:29:49.877290Z",
     "shell.execute_reply": "2025-03-11T23:29:49.875972Z"
    },
    "papermill": {
     "duration": 5.180932,
     "end_time": "2025-03-11T23:29:49.879012",
     "exception": false,
     "start_time": "2025-03-11T23:29:44.698080",
     "status": "completed"
    },
    "tags": []
   },
   "outputs": [],
   "source": [
    "try: import fastkaggle\n",
    "except ModuleNotFoundError:\n",
    "    !pip install -Uq fastkaggle\n",
    "\n",
    "from fastkaggle import *"
   ]
  }
 ],
 "metadata": {
  "kaggle": {
   "accelerator": "none",
   "dataSources": [],
   "dockerImageVersionId": 30918,
   "isGpuEnabled": false,
   "isInternetEnabled": true,
   "language": "python",
   "sourceType": "notebook"
  },
  "kernelspec": {
   "display_name": "Python 3",
   "language": "python",
   "name": "python3"
  },
  "language_info": {
   "codemirror_mode": {
    "name": "ipython",
    "version": 3
   },
   "file_extension": ".py",
   "mimetype": "text/x-python",
   "name": "python",
   "nbconvert_exporter": "python",
   "pygments_lexer": "ipython3",
   "version": "3.10.12"
  },
  "papermill": {
   "default_parameters": {},
   "duration": 7.700742,
   "end_time": "2025-03-11T23:29:50.299916",
   "environment_variables": {},
   "exception": null,
   "input_path": "__notebook__.ipynb",
   "output_path": "__notebook__.ipynb",
   "parameters": {},
   "start_time": "2025-03-11T23:29:42.599174",
   "version": "2.6.0"
  }
 },
 "nbformat": 4,
 "nbformat_minor": 5
}
